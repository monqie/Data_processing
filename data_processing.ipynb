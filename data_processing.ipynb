{
 "cells": [
  {
   "cell_type": "code",
   "execution_count": 1,
   "id": "25792d3a-bddd-4455-aef4-f117d4cea8bf",
   "metadata": {},
   "outputs": [],
   "source": [
    "import numpy as np"
   ]
  },
  {
   "cell_type": "code",
   "execution_count": 19,
   "id": "04983a7e-b651-4ba5-bd7d-73690fc0d998",
   "metadata": {},
   "outputs": [
    {
     "data": {
      "text/plain": [
       "array([ 6,  2, -7,  2,  8, -2,  1])"
      ]
     },
     "execution_count": 19,
     "metadata": {},
     "output_type": "execute_result"
    }
   ],
   "source": [
    "arr1 = np.array([6, 2, -7, 2, 8, -2, 1])   #数组是连续储存的，并且是同一类数据类型，这有异于list\n",
    "arr1"
   ]
  },
  {
   "cell_type": "code",
   "execution_count": 14,
   "id": "d4f2c490-08ab-45b9-a171-29c7c523deb9",
   "metadata": {},
   "outputs": [
    {
     "name": "stdout",
     "output_type": "stream",
     "text": [
      "[ 6  2 -7  2  8 -2  1]\n"
     ]
    }
   ],
   "source": [
    "print (arr1)"
   ]
  },
  {
   "cell_type": "code",
   "execution_count": 20,
   "id": "207e4e77-13d1-4202-a013-723f7637c446",
   "metadata": {},
   "outputs": [
    {
     "data": {
      "text/plain": [
       "array([[1, 3, 5],\n",
       "       [2, 4, 6]])"
      ]
     },
     "execution_count": 20,
     "metadata": {},
     "output_type": "execute_result"
    }
   ],
   "source": [
    "arr2 = np.array([[1,3,5],[2,4,6]])\n",
    "arr2"
   ]
  },
  {
   "cell_type": "code",
   "execution_count": 16,
   "id": "0145a984-009c-4032-bc4e-050c833528ed",
   "metadata": {},
   "outputs": [
    {
     "data": {
      "text/plain": [
       "array([[1, 3, 5],\n",
       "       [2, 4, 6]])"
      ]
     },
     "execution_count": 16,
     "metadata": {},
     "output_type": "execute_result"
    }
   ],
   "source": [
    "arr2"
   ]
  },
  {
   "cell_type": "markdown",
   "id": "98d0e3f4-6108-42dd-85d9-febb0db59cae",
   "metadata": {},
   "source": [
    "$$分别打印arr1 和 arr2 的维度，形状，元素数量，元素类型$$"
   ]
  },
  {
   "cell_type": "code",
   "execution_count": 17,
   "id": "8f36d9c0-0ba2-40f0-8634-4e4c79e8f04b",
   "metadata": {},
   "outputs": [
    {
     "data": {
      "text/plain": [
       "7"
      ]
     },
     "execution_count": 17,
     "metadata": {},
     "output_type": "execute_result"
    }
   ],
   "source": [
    "np.size(arr1)"
   ]
  },
  {
   "cell_type": "code",
   "execution_count": 30,
   "id": "b2760fe9-3c98-4bde-9d43-d21157774513",
   "metadata": {},
   "outputs": [
    {
     "name": "stdout",
     "output_type": "stream",
     "text": [
      "1\n",
      "2\n",
      "(7,)\n",
      "(2, 3)\n",
      "7\n",
      "6\n",
      "int64\n",
      "int64\n"
     ]
    }
   ],
   "source": [
    "print (arr1.ndim)\n",
    "print (arr2.ndim)\n",
    "print (arr1.shape)\n",
    "print (arr2.shape)\n",
    "print (arr1.size)\n",
    "print (arr2.size)\n",
    "print (arr1.dtype)\n",
    "print (arr2.dtype)"
   ]
  },
  {
   "cell_type": "code",
   "execution_count": 31,
   "id": "bed74bbd-e56f-4c20-8a88-1309f8e36538",
   "metadata": {},
   "outputs": [
    {
     "data": {
      "text/plain": [
       "array([0., 0., 0., 0., 0., 0.])"
      ]
     },
     "execution_count": 31,
     "metadata": {},
     "output_type": "execute_result"
    }
   ],
   "source": [
    "arr_all_0 = np.zeros (6)  #六个0浮点数\n",
    "arr_all_0 "
   ]
  },
  {
   "cell_type": "code",
   "execution_count": 32,
   "id": "9e2fd418-c507-47d6-ab90-6ce249da9f05",
   "metadata": {},
   "outputs": [
    {
     "data": {
      "text/plain": [
       "array([1., 1., 1., 1., 1., 1.])"
      ]
     },
     "execution_count": 32,
     "metadata": {},
     "output_type": "execute_result"
    }
   ],
   "source": [
    "arr_all_1 = np.ones (6)  #六个1浮点数\n",
    "arr_all_1 "
   ]
  },
  {
   "cell_type": "code",
   "execution_count": 38,
   "id": "ed92dac2-71cc-4828-a6b1-453782d2a936",
   "metadata": {},
   "outputs": [
    {
     "data": {
      "text/plain": [
       "array([10, 12, 14, 16, 18, 20])"
      ]
     },
     "execution_count": 38,
     "metadata": {},
     "output_type": "execute_result"
    }
   ],
   "source": [
    "arr_even = np.arange (10, 21, 2) \n",
    "arr_even"
   ]
  },
  {
   "cell_type": "code",
   "execution_count": 41,
   "id": "664c5eed-3564-4cb1-9501-af439a25025b",
   "metadata": {},
   "outputs": [
    {
     "data": {
      "text/plain": [
       "np.int64(90)"
      ]
     },
     "execution_count": 41,
     "metadata": {},
     "output_type": "execute_result"
    }
   ],
   "source": [
    "arr_even.sum()"
   ]
  },
  {
   "cell_type": "code",
   "execution_count": 46,
   "id": "c43a6723-af78-4657-8be9-0756fcb2ef24",
   "metadata": {},
   "outputs": [
    {
     "data": {
      "text/plain": [
       "array([12, 14, 16, 18])"
      ]
     },
     "execution_count": 46,
     "metadata": {},
     "output_type": "execute_result"
    }
   ],
   "source": [
    "arr_even[(arr_even > 11) & (arr_even < 19)]"
   ]
  },
  {
   "cell_type": "markdown",
   "id": "a2e02e03-f0fc-4efa-99a7-545dc5cb5239",
   "metadata": {},
   "source": [
    "arr_even.sort()  #不改动 原arr_even，只是排序\n",
    "np.sort (arr_even) # 改动\n"
   ]
  },
  {
   "cell_type": "code",
   "execution_count": 48,
   "id": "ffc09cd2-3d5d-4afd-8c18-da9cf170245e",
   "metadata": {},
   "outputs": [
    {
     "name": "stdout",
     "output_type": "stream",
     "text": [
      "14\n",
      "14\n"
     ]
    }
   ],
   "source": [
    "print (arr_even[2])\n",
    "print (arr_even[-4]) #倒着数"
   ]
  },
  {
   "cell_type": "code",
   "execution_count": 50,
   "id": "bdc8eb27-e2e0-41ee-b9d6-d1914afbd2ef",
   "metadata": {},
   "outputs": [
    {
     "data": {
      "text/plain": [
       "array([12, 14, 16])"
      ]
     },
     "execution_count": 50,
     "metadata": {},
     "output_type": "execute_result"
    }
   ],
   "source": [
    "arr_even [1:4] #切片功能 第一个为起始索引被包括，最后一个不被包括"
   ]
  },
  {
   "cell_type": "code",
   "execution_count": 52,
   "id": "ed905348-9aa9-4673-be03-6ac978e262e1",
   "metadata": {},
   "outputs": [],
   "source": [
    "arr3 = np.array([1,2,5,2,-7,34,9])"
   ]
  },
  {
   "cell_type": "code",
   "execution_count": 55,
   "id": "4c7ea916-3353-4730-842f-bdf2c059c4af",
   "metadata": {},
   "outputs": [],
   "source": [
    "arr4 = np.array([4,1,5,49,7,3,12])"
   ]
  },
  {
   "cell_type": "code",
   "execution_count": 56,
   "id": "18ba98c4-af68-4fa6-8ab3-58acaf05b8dc",
   "metadata": {},
   "outputs": [
    {
     "data": {
      "text/plain": [
       "array([ 5,  3, 10, 51,  0, 37, 21])"
      ]
     },
     "execution_count": 56,
     "metadata": {},
     "output_type": "execute_result"
    }
   ],
   "source": [
    "arr3 + arr4 # 数组可以直接相加 前提是长度一致\n",
    "\n",
    "for e1 in arr3:\n",
    "    for e2 in arr4:\n",
    "        e1 + e2  #如果是list 要写for loops进行相加"
   ]
  },
  {
   "cell_type": "code",
   "execution_count": null,
   "id": "fe438f85-52dd-40d0-b8f3-8b39a21ab4c3",
   "metadata": {},
   "outputs": [],
   "source": []
  },
  {
   "cell_type": "code",
   "execution_count": 57,
   "id": "98b80d60-bb5b-477e-b927-06b2d04777a2",
   "metadata": {},
   "outputs": [
    {
     "data": {
      "text/plain": [
       "array([  -5,  -10,  -25,  -10,   35, -170,  -45])"
      ]
     },
     "execution_count": 57,
     "metadata": {},
     "output_type": "execute_result"
    }
   ],
   "source": [
    "arr3 * -5 #相乘"
   ]
  },
  {
   "cell_type": "code",
   "execution_count": 58,
   "id": "b60c9528-532b-4717-b7ef-f1c12861e8fe",
   "metadata": {},
   "outputs": [
    {
     "data": {
      "text/plain": [
       "array([False, False, False, False,  True, False, False])"
      ]
     },
     "execution_count": 58,
     "metadata": {},
     "output_type": "execute_result"
    }
   ],
   "source": [
    "arr3 < 1 #输出boolean expressions"
   ]
  },
  {
   "cell_type": "code",
   "execution_count": 59,
   "id": "dcb04e9b-f77b-4b76-b6ab-d01f5d29966d",
   "metadata": {},
   "outputs": [
    {
     "data": {
      "text/plain": [
       "array([ 1,  2,  2, -7])"
      ]
     },
     "execution_count": 59,
     "metadata": {},
     "output_type": "execute_result"
    }
   ],
   "source": [
    "arr3 [arr3 < 3] #这里才会输出具体数值"
   ]
  },
  {
   "cell_type": "code",
   "execution_count": null,
   "id": "e588333d-0e94-421a-9c32-67a3d15682b9",
   "metadata": {},
   "outputs": [],
   "source": [
    "arr3 [(arr3 <1)  ]    # and&  or|   not~"
   ]
  },
  {
   "cell_type": "code",
   "execution_count": null,
   "id": "760b0140-fce2-4f1f-be6e-2181d2200af3",
   "metadata": {},
   "outputs": [],
   "source": []
  },
  {
   "cell_type": "code",
   "execution_count": 1,
   "id": "25fccc27-0330-4f9b-9c04-2be1a4829c87",
   "metadata": {},
   "outputs": [],
   "source": [
    "import pandas as pd #相当于导入后直接赋值给pd，后续输入就可以只写pd"
   ]
  },
  {
   "cell_type": "code",
   "execution_count": 3,
   "id": "502157b8-662f-44d6-920d-5a237a9b5e96",
   "metadata": {},
   "outputs": [
    {
     "data": {
      "text/plain": [
       "0     4\n",
       "1    12\n",
       "2     2\n",
       "3    -9\n",
       "4    45\n",
       "5    34\n",
       "dtype: int64"
      ]
     },
     "execution_count": 3,
     "metadata": {},
     "output_type": "execute_result"
    }
   ],
   "source": [
    "s1 = pd.Series([4,12,2,-9,45,34])\n",
    "s1 #会给出索引值（第一排）"
   ]
  },
  {
   "cell_type": "code",
   "execution_count": 5,
   "id": "956bad6b-33b6-414f-9abb-c8ea12a28d46",
   "metadata": {},
   "outputs": [
    {
     "data": {
      "text/plain": [
       "array([ 4, 12,  2, -9, 45, 34])"
      ]
     },
     "execution_count": 5,
     "metadata": {},
     "output_type": "execute_result"
    }
   ],
   "source": [
    "s1.values #获得里面数值"
   ]
  },
  {
   "cell_type": "code",
   "execution_count": 6,
   "id": "61d8e828-8f29-4d53-80ec-0af3fb1ff65c",
   "metadata": {},
   "outputs": [
    {
     "data": {
      "text/plain": [
       "RangeIndex(start=0, stop=6, step=1)"
      ]
     },
     "execution_count": 6,
     "metadata": {},
     "output_type": "execute_result"
    }
   ],
   "source": [
    "s1.index # index属性 获得索引值"
   ]
  },
  {
   "cell_type": "code",
   "execution_count": 8,
   "id": "2d149667-7277-41a5-85b4-d3668d3fbaea",
   "metadata": {},
   "outputs": [
    {
     "data": {
      "text/plain": [
       "a     4\n",
       "d    12\n",
       "h     2\n",
       "w    -9\n",
       "t    45\n",
       "g    34\n",
       "dtype: int64"
      ]
     },
     "execution_count": 8,
     "metadata": {},
     "output_type": "execute_result"
    }
   ],
   "source": [
    "s1 = pd.Series([4,12,2,-9,45,34], index=[\"a\", \"d\", \"h\", \"w\", \"t\", \"g\"]) # pandas的特别之处，可以修改索引值即标签索引, \n",
    "s1"
   ]
  },
  {
   "cell_type": "code",
   "execution_count": 10,
   "id": "4519dfb1-9ebe-43de-9d9d-df7fb75e45a9",
   "metadata": {},
   "outputs": [
    {
     "data": {
      "text/plain": [
       "a     4\n",
       "d    12\n",
       "h     2\n",
       "w    -9\n",
       "dtype: int64"
      ]
     },
     "execution_count": 10,
     "metadata": {},
     "output_type": "execute_result"
    }
   ],
   "source": [
    "s1 [\"a\":\"w\"] # 切片时，索引要记得加上 “” ，最后一个包括， 位置索引最后一个不包括。如果标签索引是数字 比如1 4 6等，切片会以原始的位置进行索引，如果要用数字标签索引pandas加入了loc，列如s1.loc[1:4],  还有iloc"
   ]
  },
  {
   "cell_type": "code",
   "execution_count": 11,
   "id": "c35e73d2-d8af-4e15-8c58-ab275a03a84d",
   "metadata": {},
   "outputs": [
    {
     "data": {
      "text/plain": [
       "a     4\n",
       "t    45\n",
       "g    34\n",
       "dtype: int64"
      ]
     },
     "execution_count": 11,
     "metadata": {},
     "output_type": "execute_result"
    }
   ],
   "source": [
    "s1 [[\"a\", \"t\",\"g\"]] #索引指定需要的数值，s1 [[1,3,6]]位置索引也是如此，但是记得是[[]]"
   ]
  },
  {
   "cell_type": "code",
   "execution_count": null,
   "id": "9733955b-7a6e-488d-8999-02bac6f6b102",
   "metadata": {},
   "outputs": [],
   "source": []
  },
  {
   "cell_type": "markdown",
   "id": "8863fe7e-6756-4b3c-91ee-5473e0d35d42",
   "metadata": {},
   "source": [
    "创建series的另一种方式：加入dict字典"
   ]
  },
  {
   "cell_type": "code",
   "execution_count": 14,
   "id": "7e49485e-b4ea-497d-b931-de05dcd3b54c",
   "metadata": {},
   "outputs": [],
   "source": [
    "s2 = pd.Series ([4.1, 2.2, 5.3, 3.7, 6.8], index=[\"青菜\", \"白萝卜\", \"西红柿\", \"土豆\", \"黄瓜\"])"
   ]
  },
  {
   "cell_type": "code",
   "execution_count": 15,
   "id": "6a95186a-595f-451c-b1d5-59bfb7ab2c92",
   "metadata": {},
   "outputs": [],
   "source": [
    "s2 = pd.Series ({\"青菜\":4.1, \"白萝卜\":2.2, \"西红柿\":5.3, \"土豆\":3.7, \"黄瓜\":6.8}) #加入dict"
   ]
  },
  {
   "cell_type": "code",
   "execution_count": 16,
   "id": "2aaa87e7-916b-47ed-8f34-35547949d4de",
   "metadata": {},
   "outputs": [
    {
     "data": {
      "text/plain": [
       "True"
      ]
     },
     "execution_count": 16,
     "metadata": {},
     "output_type": "execute_result"
    }
   ],
   "source": [
    "\"青菜\" in s2 #返回一个boolean expression提示是否存在"
   ]
  },
  {
   "cell_type": "code",
   "execution_count": 17,
   "id": "31bdf13c-90b6-4f80-a80d-ae962351cd0d",
   "metadata": {},
   "outputs": [
    {
     "data": {
      "text/plain": [
       "np.float64(4.1)"
      ]
     },
     "execution_count": 17,
     "metadata": {},
     "output_type": "execute_result"
    }
   ],
   "source": [
    "s2 [\"青菜\"]"
   ]
  },
  {
   "cell_type": "code",
   "execution_count": 18,
   "id": "34a0c751-5692-4ab4-b119-9f8794ee6e1a",
   "metadata": {},
   "outputs": [
    {
     "data": {
      "text/plain": [
       "np.float64(4.1)"
      ]
     },
     "execution_count": 18,
     "metadata": {},
     "output_type": "execute_result"
    }
   ],
   "source": [
    "s2.loc[\"青菜\"]"
   ]
  },
  {
   "cell_type": "code",
   "execution_count": 19,
   "id": "25acb2e1-e01b-441f-a831-8e9b6bc4a836",
   "metadata": {},
   "outputs": [
    {
     "data": {
      "text/plain": [
       "np.float64(4.1)"
      ]
     },
     "execution_count": 19,
     "metadata": {},
     "output_type": "execute_result"
    }
   ],
   "source": [
    "s2.iloc[0]"
   ]
  },
  {
   "cell_type": "code",
   "execution_count": 20,
   "id": "5c8308b5-2e3e-414a-b8ca-0987991cb879",
   "metadata": {},
   "outputs": [
    {
     "data": {
      "text/plain": [
       "白萝卜    2.2\n",
       "西红柿    5.3\n",
       "黄瓜     6.8\n",
       "dtype: float64"
      ]
     },
     "execution_count": 20,
     "metadata": {},
     "output_type": "execute_result"
    }
   ],
   "source": [
    "s2 [(s2>5) | (s2<3)] #根据条件需要筛选series元素"
   ]
  },
  {
   "cell_type": "code",
   "execution_count": 22,
   "id": "bf8a4195-eb80-4558-8a53-ddf0fcb9ea57",
   "metadata": {},
   "outputs": [],
   "source": [
    "s5 = pd.Series([1,2,3,4,5])"
   ]
  },
  {
   "cell_type": "code",
   "execution_count": 26,
   "id": "9bcdf35a-54bf-4636-a299-d77745a4e2bb",
   "metadata": {},
   "outputs": [],
   "source": [
    "s5 = pd.Series([1,2,3,4,5],index = [5,4,3,2,1])"
   ]
  },
  {
   "cell_type": "code",
   "execution_count": 29,
   "id": "d0c9635f-18cb-43f4-b2c2-9fd755b278f3",
   "metadata": {},
   "outputs": [
    {
     "data": {
      "text/plain": [
       "5    1\n",
       "4    2\n",
       "3    3\n",
       "2    4\n",
       "1    5\n",
       "dtype: int64"
      ]
     },
     "execution_count": 29,
     "metadata": {},
     "output_type": "execute_result"
    }
   ],
   "source": [
    "s5"
   ]
  },
  {
   "cell_type": "code",
   "execution_count": 32,
   "id": "b8a410b9-a2b0-4150-a406-d64171889e5e",
   "metadata": {},
   "outputs": [
    {
     "data": {
      "text/plain": [
       "np.int64(2)"
      ]
     },
     "execution_count": 32,
     "metadata": {},
     "output_type": "execute_result"
    }
   ],
   "source": [
    "s5.iloc[1]"
   ]
  },
  {
   "cell_type": "code",
   "execution_count": 34,
   "id": "4621ca6d-e4fd-479c-9042-e868afe3dfc1",
   "metadata": {},
   "outputs": [
    {
     "data": {
      "text/plain": [
       "5    1\n",
       "4    2\n",
       "3    3\n",
       "dtype: int64"
      ]
     },
     "execution_count": 34,
     "metadata": {},
     "output_type": "execute_result"
    }
   ],
   "source": [
    "s5.loc[5:3]"
   ]
  },
  {
   "cell_type": "code",
   "execution_count": 38,
   "id": "dccb48e6-9fec-49e8-8e85-8e9e3aea95a0",
   "metadata": {},
   "outputs": [
    {
     "data": {
      "text/plain": [
       "xiao li       82\n",
       "xiao chen     93\n",
       "xiao zhang    91\n",
       "xiao zeng     78\n",
       "xiao deng     68\n",
       "dtype: int64"
      ]
     },
     "execution_count": 38,
     "metadata": {},
     "output_type": "execute_result"
    }
   ],
   "source": [
    "s6 = pd.Series({\"xiao li\":82, \"xiao chen\":93, \"xiao zhang\":91, \"xiao zeng\":78, \"xiao deng\":68})\n",
    "s6"
   ]
  },
  {
   "cell_type": "code",
   "execution_count": 41,
   "id": "203c0ab1-9d37-4b3d-a424-1fde354625d1",
   "metadata": {},
   "outputs": [
    {
     "data": {
      "text/plain": [
       "xiao li       82\n",
       "xiao chen     93\n",
       "xiao zhang    95\n",
       "xiao zeng     78\n",
       "xiao deng     68\n",
       "dtype: int64"
      ]
     },
     "execution_count": 41,
     "metadata": {},
     "output_type": "execute_result"
    }
   ],
   "source": [
    "s6[\"xiao zhang\"] = 95  # 或者使用s3.loc [\"xiao zhang\"] = 95\n",
    "s6"
   ]
  },
  {
   "cell_type": "code",
   "execution_count": 44,
   "id": "efa097c8-4ffb-452e-8037-0c1fbb152823",
   "metadata": {},
   "outputs": [
    {
     "data": {
      "text/plain": [
       "xiao li        True\n",
       "xiao chen      True\n",
       "xiao zhang     True\n",
       "xiao zeng     False\n",
       "xiao deng     False\n",
       "dtype: bool"
      ]
     },
     "execution_count": 44,
     "metadata": {},
     "output_type": "execute_result"
    }
   ],
   "source": [
    "s6 >80"
   ]
  },
  {
   "cell_type": "code",
   "execution_count": 46,
   "id": "aec5a6b0-f686-4e72-bfe3-b6ce5c2ba22d",
   "metadata": {},
   "outputs": [
    {
     "data": {
      "text/plain": [
       "xiao li    82\n",
       "dtype: int64"
      ]
     },
     "execution_count": 46,
     "metadata": {},
     "output_type": "execute_result"
    }
   ],
   "source": [
    "s6 [(s6 >80) & (s6 < 90)]"
   ]
  },
  {
   "cell_type": "code",
   "execution_count": null,
   "id": "ee8e9053-0e0b-41d1-9ae1-c5699dee5935",
   "metadata": {},
   "outputs": [],
   "source": []
  },
  {
   "cell_type": "code",
   "execution_count": 3,
   "id": "aaaa43e0-8dd4-4f29-b32b-072737e2f5ca",
   "metadata": {},
   "outputs": [],
   "source": [
    "import pandas as pd"
   ]
  },
  {
   "cell_type": "code",
   "execution_count": 4,
   "id": "949514cb-b452-46e7-b152-4d1040cbf041",
   "metadata": {},
   "outputs": [],
   "source": [
    "s9 = pd.Series ([92, 67, 70, 88, 76], index = [\"ming\", \"hong\", \"jie\", \"li\", \"hua\"])\n",
    "s8 = pd.Series ([95, 85, 60, 79, 76], index = [\"ming\", \"jie\", \"yu\", \"juan\", \"tong\"])\n"
   ]
  },
  {
   "cell_type": "code",
   "execution_count": 5,
   "id": "5beabdec-cf81-4347-8bc1-b0aee9b8222d",
   "metadata": {},
   "outputs": [
    {
     "data": {
      "text/plain": [
       "ming    92\n",
       "hong    67\n",
       "jie     70\n",
       "li      88\n",
       "hua     76\n",
       "dtype: int64"
      ]
     },
     "execution_count": 5,
     "metadata": {},
     "output_type": "execute_result"
    }
   ],
   "source": [
    "s9"
   ]
  },
  {
   "cell_type": "code",
   "execution_count": 6,
   "id": "ea5dc827-da59-4ccf-9297-07fc30dad333",
   "metadata": {},
   "outputs": [
    {
     "data": {
      "text/plain": [
       "ming    95\n",
       "jie     85\n",
       "yu      60\n",
       "juan    79\n",
       "tong    76\n",
       "dtype: int64"
      ]
     },
     "execution_count": 6,
     "metadata": {},
     "output_type": "execute_result"
    }
   ],
   "source": [
    "s8"
   ]
  },
  {
   "cell_type": "code",
   "execution_count": 7,
   "id": "41494d5e-11b5-48fb-be8e-a540fae46c20",
   "metadata": {},
   "outputs": [
    {
     "data": {
      "text/plain": [
       "hong      NaN\n",
       "hua       NaN\n",
       "jie     155.0\n",
       "juan      NaN\n",
       "li        NaN\n",
       "ming    187.0\n",
       "tong      NaN\n",
       "yu        NaN\n",
       "dtype: float64"
      ]
     },
     "execution_count": 7,
     "metadata": {},
     "output_type": "execute_result"
    }
   ],
   "source": [
    "s9 + s8"
   ]
  },
  {
   "cell_type": "code",
   "execution_count": 8,
   "id": "25ee5fbf-7d06-4d42-9d06-0bfb9784af91",
   "metadata": {},
   "outputs": [
    {
     "data": {
      "text/plain": [
       "hong     67.0\n",
       "hua      76.0\n",
       "jie     155.0\n",
       "juan     79.0\n",
       "li       88.0\n",
       "ming    187.0\n",
       "tong     76.0\n",
       "yu       60.0\n",
       "dtype: float64"
      ]
     },
     "execution_count": 8,
     "metadata": {},
     "output_type": "execute_result"
    }
   ],
   "source": [
    "s9.add(s8, fill_value=0)"
   ]
  },
  {
   "cell_type": "code",
   "execution_count": 13,
   "id": "2353a7e3-706a-456d-a894-f58300db0c1e",
   "metadata": {},
   "outputs": [
    {
     "data": {
      "text/plain": [
       "count     5.000000\n",
       "mean     78.600000\n",
       "std      10.990905\n",
       "min      67.000000\n",
       "25%      70.000000\n",
       "50%      76.000000\n",
       "75%      88.000000\n",
       "max      92.000000\n",
       "dtype: float64"
      ]
     },
     "execution_count": 13,
     "metadata": {},
     "output_type": "execute_result"
    }
   ],
   "source": [
    "s9.describe()"
   ]
  },
  {
   "cell_type": "code",
   "execution_count": 16,
   "id": "14878fef-8bfb-4aae-ab1d-dfcc57e387fd",
   "metadata": {},
   "outputs": [],
   "source": [
    "s9 = s9 + 5 #需要再次赋值才会改变s9"
   ]
  },
  {
   "cell_type": "code",
   "execution_count": 20,
   "id": "7cf1abc7-e14c-4d3f-bf00-fa645f90a6da",
   "metadata": {},
   "outputs": [
    {
     "data": {
      "text/plain": [
       "'fail'"
      ]
     },
     "execution_count": 20,
     "metadata": {},
     "output_type": "execute_result"
    }
   ],
   "source": [
    "def get_rank (scores):  #自定义函数，给分数排等级\n",
    "    if scores >= 90:\n",
    "        return \"A\"\n",
    "    elif scores >=80:\n",
    "        return \"B\"\n",
    "    elif scores >=70:\n",
    "        return \"C\"\n",
    "    elif scores >= 60:\n",
    "        return \"D\"\n",
    "    else:\n",
    "        return \"fail\"\n",
    "get_rank(59)\n",
    "\n"
   ]
  },
  {
   "cell_type": "code",
   "execution_count": 19,
   "id": "9c719096-1431-411f-8b21-522cf41ef3c8",
   "metadata": {},
   "outputs": [
    {
     "data": {
      "text/plain": [
       "ming    A\n",
       "hong    C\n",
       "jie     B\n",
       "li      A\n",
       "hua     B\n",
       "dtype: object"
      ]
     },
     "execution_count": 19,
     "metadata": {},
     "output_type": "execute_result"
    }
   ],
   "source": [
    "s9.apply (get_rank)"
   ]
  },
  {
   "cell_type": "code",
   "execution_count": null,
   "id": "a9c4f311-d7b3-405c-bb7b-0374d802fb4d",
   "metadata": {},
   "outputs": [],
   "source": []
  },
  {
   "cell_type": "code",
   "execution_count": null,
   "id": "1db9bfc2-3ac9-4d00-a1cc-8f48ebe7e000",
   "metadata": {},
   "outputs": [],
   "source": []
  },
  {
   "cell_type": "code",
   "execution_count": 26,
   "id": "102c3442-7a51-4b88-8470-949400c7e2fa",
   "metadata": {},
   "outputs": [],
   "source": [
    "name = pd.Series([\"chen\", \"li\", \"wang\", \"zha\", \"zao\", \"zio\"], index=[\"001\", \"002\", \"003\", \"004\", \"005\", \"006\"])\n",
    "gender = pd.Series([\"fm\", \"fm\", \"m\", \"m\", \"fm\",\"fm\"], index=[\"006\",\"005\", \"004\", \"003\", \"002\", \"001\"])\n",
    "height = pd.Series ([172.5, 168.0, 178.2, 181.3, 161.7], index = [\"001\", \"002\", \"003\", \"004\", \"005\"])"
   ]
  },
  {
   "cell_type": "code",
   "execution_count": 31,
   "id": "843b1584-c826-4b02-ac52-868d0639f977",
   "metadata": {},
   "outputs": [
    {
     "data": {
      "text/html": [
       "<div>\n",
       "<style scoped>\n",
       "    .dataframe tbody tr th:only-of-type {\n",
       "        vertical-align: middle;\n",
       "    }\n",
       "\n",
       "    .dataframe tbody tr th {\n",
       "        vertical-align: top;\n",
       "    }\n",
       "\n",
       "    .dataframe thead th {\n",
       "        text-align: right;\n",
       "    }\n",
       "</style>\n",
       "<table border=\"1\" class=\"dataframe\">\n",
       "  <thead>\n",
       "    <tr style=\"text-align: right;\">\n",
       "      <th></th>\n",
       "      <th>姓名</th>\n",
       "      <th>性别</th>\n",
       "      <th>身高</th>\n",
       "    </tr>\n",
       "  </thead>\n",
       "  <tbody>\n",
       "    <tr>\n",
       "      <th>001</th>\n",
       "      <td>chen</td>\n",
       "      <td>fm</td>\n",
       "      <td>172.5</td>\n",
       "    </tr>\n",
       "    <tr>\n",
       "      <th>002</th>\n",
       "      <td>li</td>\n",
       "      <td>fm</td>\n",
       "      <td>168.0</td>\n",
       "    </tr>\n",
       "    <tr>\n",
       "      <th>003</th>\n",
       "      <td>wang</td>\n",
       "      <td>m</td>\n",
       "      <td>178.2</td>\n",
       "    </tr>\n",
       "    <tr>\n",
       "      <th>004</th>\n",
       "      <td>zha</td>\n",
       "      <td>m</td>\n",
       "      <td>181.3</td>\n",
       "    </tr>\n",
       "    <tr>\n",
       "      <th>005</th>\n",
       "      <td>zao</td>\n",
       "      <td>fm</td>\n",
       "      <td>161.7</td>\n",
       "    </tr>\n",
       "    <tr>\n",
       "      <th>006</th>\n",
       "      <td>zio</td>\n",
       "      <td>fm</td>\n",
       "      <td>NaN</td>\n",
       "    </tr>\n",
       "  </tbody>\n",
       "</table>\n",
       "</div>"
      ],
      "text/plain": [
       "       姓名  性别     身高\n",
       "001  chen  fm  172.5\n",
       "002    li  fm  168.0\n",
       "003  wang   m  178.2\n",
       "004   zha   m  181.3\n",
       "005   zao  fm  161.7\n",
       "006   zio  fm    NaN"
      ]
     },
     "execution_count": 31,
     "metadata": {},
     "output_type": "execute_result"
    }
   ],
   "source": [
    "students = pd.DataFrame({\"姓名\":name, \"性别\": gender, \"身高\": height}) \n",
    "students"
   ]
  },
  {
   "cell_type": "code",
   "execution_count": 33,
   "id": "bf9b8963-d1f1-4fdc-bfb8-16b7e4331bae",
   "metadata": {},
   "outputs": [
    {
     "name": "stdout",
     "output_type": "stream",
     "text": [
      "Index(['001', '002', '003', '004', '005', '006'], dtype='object')\n",
      "Index(['姓名', '性别', '身高'], dtype='object')\n"
     ]
    }
   ],
   "source": [
    "print(students.index)\n",
    "print(students.columns)"
   ]
  },
  {
   "cell_type": "code",
   "execution_count": 34,
   "id": "07d9c09d-6ec3-4f11-85f9-ac5dffbad20a",
   "metadata": {},
   "outputs": [
    {
     "data": {
      "text/plain": [
       "001    172.5\n",
       "002    168.0\n",
       "003    178.2\n",
       "004    181.3\n",
       "005    161.7\n",
       "006      NaN\n",
       "Name: 身高, dtype: float64"
      ]
     },
     "execution_count": 34,
     "metadata": {},
     "output_type": "execute_result"
    }
   ],
   "source": [
    "students.身高 # 或者 students[\"身高\"]"
   ]
  },
  {
   "cell_type": "code",
   "execution_count": 36,
   "id": "030762e5-7342-472d-a81e-948be127fbe3",
   "metadata": {},
   "outputs": [
    {
     "data": {
      "text/html": [
       "<div>\n",
       "<style scoped>\n",
       "    .dataframe tbody tr th:only-of-type {\n",
       "        vertical-align: middle;\n",
       "    }\n",
       "\n",
       "    .dataframe tbody tr th {\n",
       "        vertical-align: top;\n",
       "    }\n",
       "\n",
       "    .dataframe thead th {\n",
       "        text-align: right;\n",
       "    }\n",
       "</style>\n",
       "<table border=\"1\" class=\"dataframe\">\n",
       "  <thead>\n",
       "    <tr style=\"text-align: right;\">\n",
       "      <th></th>\n",
       "      <th>001</th>\n",
       "      <th>002</th>\n",
       "      <th>003</th>\n",
       "      <th>004</th>\n",
       "      <th>005</th>\n",
       "      <th>006</th>\n",
       "    </tr>\n",
       "  </thead>\n",
       "  <tbody>\n",
       "    <tr>\n",
       "      <th>姓名</th>\n",
       "      <td>chen</td>\n",
       "      <td>li</td>\n",
       "      <td>wang</td>\n",
       "      <td>zha</td>\n",
       "      <td>zao</td>\n",
       "      <td>zio</td>\n",
       "    </tr>\n",
       "    <tr>\n",
       "      <th>性别</th>\n",
       "      <td>fm</td>\n",
       "      <td>fm</td>\n",
       "      <td>m</td>\n",
       "      <td>m</td>\n",
       "      <td>fm</td>\n",
       "      <td>fm</td>\n",
       "    </tr>\n",
       "    <tr>\n",
       "      <th>身高</th>\n",
       "      <td>172.5</td>\n",
       "      <td>168.0</td>\n",
       "      <td>178.2</td>\n",
       "      <td>181.3</td>\n",
       "      <td>161.7</td>\n",
       "      <td>NaN</td>\n",
       "    </tr>\n",
       "  </tbody>\n",
       "</table>\n",
       "</div>"
      ],
      "text/plain": [
       "      001    002    003    004    005  006\n",
       "姓名   chen     li   wang    zha    zao  zio\n",
       "性别     fm     fm      m      m     fm   fm\n",
       "身高  172.5  168.0  178.2  181.3  161.7  NaN"
      ]
     },
     "execution_count": 36,
     "metadata": {},
     "output_type": "execute_result"
    }
   ],
   "source": [
    "students.T # transposition "
   ]
  },
  {
   "cell_type": "code",
   "execution_count": 39,
   "id": "c51e2170-f016-4ca0-837d-c9d93f4c6152",
   "metadata": {},
   "outputs": [
    {
     "data": {
      "text/html": [
       "<div>\n",
       "<style scoped>\n",
       "    .dataframe tbody tr th:only-of-type {\n",
       "        vertical-align: middle;\n",
       "    }\n",
       "\n",
       "    .dataframe tbody tr th {\n",
       "        vertical-align: top;\n",
       "    }\n",
       "\n",
       "    .dataframe thead th {\n",
       "        text-align: right;\n",
       "    }\n",
       "</style>\n",
       "<table border=\"1\" class=\"dataframe\">\n",
       "  <thead>\n",
       "    <tr style=\"text-align: right;\">\n",
       "      <th></th>\n",
       "      <th>姓名</th>\n",
       "      <th>身高</th>\n",
       "    </tr>\n",
       "  </thead>\n",
       "  <tbody>\n",
       "    <tr>\n",
       "      <th>001</th>\n",
       "      <td>chen</td>\n",
       "      <td>172.5</td>\n",
       "    </tr>\n",
       "    <tr>\n",
       "      <th>002</th>\n",
       "      <td>li</td>\n",
       "      <td>168.0</td>\n",
       "    </tr>\n",
       "    <tr>\n",
       "      <th>003</th>\n",
       "      <td>wang</td>\n",
       "      <td>178.2</td>\n",
       "    </tr>\n",
       "    <tr>\n",
       "      <th>004</th>\n",
       "      <td>zha</td>\n",
       "      <td>181.3</td>\n",
       "    </tr>\n",
       "    <tr>\n",
       "      <th>005</th>\n",
       "      <td>zao</td>\n",
       "      <td>161.7</td>\n",
       "    </tr>\n",
       "    <tr>\n",
       "      <th>006</th>\n",
       "      <td>zio</td>\n",
       "      <td>NaN</td>\n",
       "    </tr>\n",
       "  </tbody>\n",
       "</table>\n",
       "</div>"
      ],
      "text/plain": [
       "       姓名     身高\n",
       "001  chen  172.5\n",
       "002    li  168.0\n",
       "003  wang  178.2\n",
       "004   zha  181.3\n",
       "005   zao  161.7\n",
       "006   zio    NaN"
      ]
     },
     "execution_count": 39,
     "metadata": {},
     "output_type": "execute_result"
    }
   ],
   "source": [
    "students[[\"姓名\",\"身高\"]]"
   ]
  },
  {
   "cell_type": "code",
   "execution_count": 43,
   "id": "ebc17561-916f-4b2f-b30b-3fb879fadbdc",
   "metadata": {},
   "outputs": [
    {
     "data": {
      "text/plain": [
       "姓名     wang\n",
       "性别        m\n",
       "身高    178.2\n",
       "Name: 003, dtype: object"
      ]
     },
     "execution_count": 43,
     "metadata": {},
     "output_type": "execute_result"
    }
   ],
   "source": [
    "students.loc[\"003\"]"
   ]
  },
  {
   "cell_type": "code",
   "execution_count": 45,
   "id": "f559881a-d522-4111-a3a9-8ca1b4f4d44e",
   "metadata": {},
   "outputs": [
    {
     "data": {
      "text/html": [
       "<div>\n",
       "<style scoped>\n",
       "    .dataframe tbody tr th:only-of-type {\n",
       "        vertical-align: middle;\n",
       "    }\n",
       "\n",
       "    .dataframe tbody tr th {\n",
       "        vertical-align: top;\n",
       "    }\n",
       "\n",
       "    .dataframe thead th {\n",
       "        text-align: right;\n",
       "    }\n",
       "</style>\n",
       "<table border=\"1\" class=\"dataframe\">\n",
       "  <thead>\n",
       "    <tr style=\"text-align: right;\">\n",
       "      <th></th>\n",
       "      <th>姓名</th>\n",
       "      <th>性别</th>\n",
       "      <th>身高</th>\n",
       "    </tr>\n",
       "  </thead>\n",
       "  <tbody>\n",
       "    <tr>\n",
       "      <th>003</th>\n",
       "      <td>wang</td>\n",
       "      <td>m</td>\n",
       "      <td>178.2</td>\n",
       "    </tr>\n",
       "    <tr>\n",
       "      <th>004</th>\n",
       "      <td>zha</td>\n",
       "      <td>m</td>\n",
       "      <td>181.3</td>\n",
       "    </tr>\n",
       "    <tr>\n",
       "      <th>005</th>\n",
       "      <td>zao</td>\n",
       "      <td>fm</td>\n",
       "      <td>161.7</td>\n",
       "    </tr>\n",
       "  </tbody>\n",
       "</table>\n",
       "</div>"
      ],
      "text/plain": [
       "       姓名  性别     身高\n",
       "003  wang   m  178.2\n",
       "004   zha   m  181.3\n",
       "005   zao  fm  161.7"
      ]
     },
     "execution_count": 45,
     "metadata": {},
     "output_type": "execute_result"
    }
   ],
   "source": [
    "students[\"003\":\"005\"]"
   ]
  },
  {
   "cell_type": "code",
   "execution_count": 46,
   "id": "bab52fee-91db-474e-8fca-326f452f748a",
   "metadata": {},
   "outputs": [
    {
     "data": {
      "text/plain": [
       "np.float64(161.7)"
      ]
     },
     "execution_count": 46,
     "metadata": {},
     "output_type": "execute_result"
    }
   ],
   "source": [
    "students.loc [\"005\", \"身高\"]"
   ]
  },
  {
   "cell_type": "code",
   "execution_count": 47,
   "id": "c7dc84ab-c26b-460b-bb44-957ca816f454",
   "metadata": {},
   "outputs": [
    {
     "data": {
      "text/html": [
       "<div>\n",
       "<style scoped>\n",
       "    .dataframe tbody tr th:only-of-type {\n",
       "        vertical-align: middle;\n",
       "    }\n",
       "\n",
       "    .dataframe tbody tr th {\n",
       "        vertical-align: top;\n",
       "    }\n",
       "\n",
       "    .dataframe thead th {\n",
       "        text-align: right;\n",
       "    }\n",
       "</style>\n",
       "<table border=\"1\" class=\"dataframe\">\n",
       "  <thead>\n",
       "    <tr style=\"text-align: right;\">\n",
       "      <th></th>\n",
       "      <th>姓名</th>\n",
       "      <th>身高</th>\n",
       "    </tr>\n",
       "  </thead>\n",
       "  <tbody>\n",
       "    <tr>\n",
       "      <th>003</th>\n",
       "      <td>wang</td>\n",
       "      <td>178.2</td>\n",
       "    </tr>\n",
       "    <tr>\n",
       "      <th>005</th>\n",
       "      <td>zao</td>\n",
       "      <td>161.7</td>\n",
       "    </tr>\n",
       "  </tbody>\n",
       "</table>\n",
       "</div>"
      ],
      "text/plain": [
       "       姓名     身高\n",
       "003  wang  178.2\n",
       "005   zao  161.7"
      ]
     },
     "execution_count": 47,
     "metadata": {},
     "output_type": "execute_result"
    }
   ],
   "source": [
    "students.loc [[\"003\",\"005\"], [\"姓名\",\"身高\"]]"
   ]
  },
  {
   "cell_type": "code",
   "execution_count": 48,
   "id": "71f84686-8de2-436d-bc81-550665eb7b6f",
   "metadata": {},
   "outputs": [
    {
     "data": {
      "text/html": [
       "<div>\n",
       "<style scoped>\n",
       "    .dataframe tbody tr th:only-of-type {\n",
       "        vertical-align: middle;\n",
       "    }\n",
       "\n",
       "    .dataframe tbody tr th {\n",
       "        vertical-align: top;\n",
       "    }\n",
       "\n",
       "    .dataframe thead th {\n",
       "        text-align: right;\n",
       "    }\n",
       "</style>\n",
       "<table border=\"1\" class=\"dataframe\">\n",
       "  <thead>\n",
       "    <tr style=\"text-align: right;\">\n",
       "      <th></th>\n",
       "      <th>姓名</th>\n",
       "      <th>性别</th>\n",
       "      <th>身高</th>\n",
       "    </tr>\n",
       "  </thead>\n",
       "  <tbody>\n",
       "    <tr>\n",
       "      <th>003</th>\n",
       "      <td>wang</td>\n",
       "      <td>m</td>\n",
       "      <td>178.2</td>\n",
       "    </tr>\n",
       "    <tr>\n",
       "      <th>005</th>\n",
       "      <td>zao</td>\n",
       "      <td>fm</td>\n",
       "      <td>161.7</td>\n",
       "    </tr>\n",
       "  </tbody>\n",
       "</table>\n",
       "</div>"
      ],
      "text/plain": [
       "       姓名  性别     身高\n",
       "003  wang   m  178.2\n",
       "005   zao  fm  161.7"
      ]
     },
     "execution_count": 48,
     "metadata": {},
     "output_type": "execute_result"
    }
   ],
   "source": [
    "students.loc[[\"003\",\"005\"], :]"
   ]
  },
  {
   "cell_type": "code",
   "execution_count": 50,
   "id": "c12a7d53-1a42-49b7-a049-7b69a77f4c86",
   "metadata": {},
   "outputs": [
    {
     "data": {
      "text/plain": [
       "001     True\n",
       "002     True\n",
       "003     True\n",
       "004     True\n",
       "005    False\n",
       "006    False\n",
       "Name: 身高, dtype: bool"
      ]
     },
     "execution_count": 50,
     "metadata": {},
     "output_type": "execute_result"
    }
   ],
   "source": [
    "students [\"身高\"] > 165"
   ]
  },
  {
   "cell_type": "code",
   "execution_count": 51,
   "id": "2b2d70c5-e8a1-4016-aa9a-0364b6b074cf",
   "metadata": {},
   "outputs": [
    {
     "data": {
      "text/html": [
       "<div>\n",
       "<style scoped>\n",
       "    .dataframe tbody tr th:only-of-type {\n",
       "        vertical-align: middle;\n",
       "    }\n",
       "\n",
       "    .dataframe tbody tr th {\n",
       "        vertical-align: top;\n",
       "    }\n",
       "\n",
       "    .dataframe thead th {\n",
       "        text-align: right;\n",
       "    }\n",
       "</style>\n",
       "<table border=\"1\" class=\"dataframe\">\n",
       "  <thead>\n",
       "    <tr style=\"text-align: right;\">\n",
       "      <th></th>\n",
       "      <th>姓名</th>\n",
       "      <th>性别</th>\n",
       "      <th>身高</th>\n",
       "    </tr>\n",
       "  </thead>\n",
       "  <tbody>\n",
       "    <tr>\n",
       "      <th>001</th>\n",
       "      <td>chen</td>\n",
       "      <td>fm</td>\n",
       "      <td>172.5</td>\n",
       "    </tr>\n",
       "    <tr>\n",
       "      <th>002</th>\n",
       "      <td>li</td>\n",
       "      <td>fm</td>\n",
       "      <td>168.0</td>\n",
       "    </tr>\n",
       "  </tbody>\n",
       "</table>\n",
       "</div>"
      ],
      "text/plain": [
       "       姓名  性别     身高\n",
       "001  chen  fm  172.5\n",
       "002    li  fm  168.0"
      ]
     },
     "execution_count": 51,
     "metadata": {},
     "output_type": "execute_result"
    }
   ],
   "source": [
    "students [(students [\"身高\"] > 165) & (students [\"性别\"] == \"fm\")]"
   ]
  },
  {
   "cell_type": "code",
   "execution_count": 52,
   "id": "784436a3-76ad-43b2-a64f-88575a58bda3",
   "metadata": {},
   "outputs": [
    {
     "data": {
      "text/html": [
       "<div>\n",
       "<style scoped>\n",
       "    .dataframe tbody tr th:only-of-type {\n",
       "        vertical-align: middle;\n",
       "    }\n",
       "\n",
       "    .dataframe tbody tr th {\n",
       "        vertical-align: top;\n",
       "    }\n",
       "\n",
       "    .dataframe thead th {\n",
       "        text-align: right;\n",
       "    }\n",
       "</style>\n",
       "<table border=\"1\" class=\"dataframe\">\n",
       "  <thead>\n",
       "    <tr style=\"text-align: right;\">\n",
       "      <th></th>\n",
       "      <th>姓名</th>\n",
       "      <th>性别</th>\n",
       "      <th>身高</th>\n",
       "    </tr>\n",
       "  </thead>\n",
       "  <tbody>\n",
       "    <tr>\n",
       "      <th>001</th>\n",
       "      <td>chen</td>\n",
       "      <td>fm</td>\n",
       "      <td>172.5</td>\n",
       "    </tr>\n",
       "    <tr>\n",
       "      <th>002</th>\n",
       "      <td>li</td>\n",
       "      <td>fm</td>\n",
       "      <td>168.0</td>\n",
       "    </tr>\n",
       "    <tr>\n",
       "      <th>003</th>\n",
       "      <td>wang</td>\n",
       "      <td>m</td>\n",
       "      <td>178.2</td>\n",
       "    </tr>\n",
       "    <tr>\n",
       "      <th>004</th>\n",
       "      <td>zha</td>\n",
       "      <td>m</td>\n",
       "      <td>181.3</td>\n",
       "    </tr>\n",
       "    <tr>\n",
       "      <th>005</th>\n",
       "      <td>zao</td>\n",
       "      <td>fm</td>\n",
       "      <td>161.7</td>\n",
       "    </tr>\n",
       "  </tbody>\n",
       "</table>\n",
       "</div>"
      ],
      "text/plain": [
       "       姓名  性别     身高\n",
       "001  chen  fm  172.5\n",
       "002    li  fm  168.0\n",
       "003  wang   m  178.2\n",
       "004   zha   m  181.3\n",
       "005   zao  fm  161.7"
      ]
     },
     "execution_count": 52,
     "metadata": {},
     "output_type": "execute_result"
    }
   ],
   "source": [
    "students.head() # ()默认前五行 可以自行定义"
   ]
  },
  {
   "cell_type": "code",
   "execution_count": null,
   "id": "6f6e6396-cfe5-481a-9d7f-dd1eaecb049e",
   "metadata": {},
   "outputs": [],
   "source": [
    "\n"
   ]
  },
  {
   "cell_type": "code",
   "execution_count": null,
   "id": "3f596734-73d2-41e0-9eca-160cf9180c92",
   "metadata": {},
   "outputs": [],
   "source": [
    "\n"
   ]
  },
  {
   "cell_type": "code",
   "execution_count": null,
   "id": "232a9c21-604d-4216-8850-ee1d8f1a669b",
   "metadata": {},
   "outputs": [],
   "source": [
    "\n",
    "import pandas as pd"
   ]
  },
  {
   "cell_type": "code",
   "execution_count": null,
   "id": "c193eb02-7707-4268-a1bb-1cd64de5d003",
   "metadata": {},
   "outputs": [],
   "source": [
    "student_data = {\"x\":{\"Y\":\"Z\", \"A\",\"B\"}} # 创建dataframe ， dict 里面是行，外面的x对于列名\n",
    "students = pd.DataFrame (student_data)"
   ]
  },
  {
   "cell_type": "code",
   "execution_count": null,
   "id": "b7698716-a01d-41ba-b9a4-a30839c6ccc6",
   "metadata": {},
   "outputs": [],
   "source": [
    "students[\"考试4\"] = [12,12,12,23,34,12,34,65,87] #在dataframe里面添加一列"
   ]
  },
  {
   "cell_type": "code",
   "execution_count": null,
   "id": "21ad80a9-8abd-4e47-b63c-f8b5d4b01445",
   "metadata": {},
   "outputs": [],
   "source": [
    "students.loc[007] = [\"小杨\"，79，80，82，67，87] # 添加一行，007为索引"
   ]
  },
  {
   "cell_type": "code",
   "execution_count": null,
   "id": "6a566456-c46c-4cb9-ab07-78c6fee8a247",
   "metadata": {},
   "outputs": [],
   "source": [
    "students.drop([\"006\",\"007\"], axis = 0)  #删除 006 007行，axis默认为0可以不写（axis为0是对列进行操作，为1是对行进行操作），drop只删除，不对原students进行修改"
   ]
  },
  {
   "cell_type": "code",
   "execution_count": null,
   "id": "2b195fc3-fe80-4f99-b74b-693f0892c57b",
   "metadata": {},
   "outputs": [],
   "source": [
    "students.drop ([\"考试2\",\"考试4\"], axis = 1) "
   ]
  },
  {
   "cell_type": "code",
   "execution_count": null,
   "id": "75aaafd1-4860-4e33-880a-880eacea878f",
   "metadata": {},
   "outputs": [],
   "source": [
    "T = pd.Series({\"考试1\":90, \"考试2\":89,\"考试3\":78,\"考试3\":88, \"考试4\",67}) #创建series"
   ]
  },
  {
   "cell_type": "code",
   "execution_count": null,
   "id": "c158ef21-4487-472e-bb06-39c0e3994dd5",
   "metadata": {},
   "outputs": [],
   "source": [
    "T + students[[\"考试1\", \"考试2\", \"考试3\", \"考试4\"]] # T 与students相加，可以特意把students里的像对应的值提取出，进行单独相加"
   ]
  },
  {
   "cell_type": "code",
   "execution_count": null,
   "id": "bd730420-16e5-4193-8329-b91e4b6b6eaa",
   "metadata": {},
   "outputs": [],
   "source": [
    "students[\"考试4\"] = students[\"考试4\"] + 10  # 考试4的值全部加10，然后更新原students里的考试4那一列 ，不能一直点击输出，会一直加10，如果发现多点击了，可以在最上方菜单栏点击restart的标志就是重新输出第一次运行后结果."
   ]
  },
  {
   "cell_type": "code",
   "execution_count": null,
   "id": "1b9a1553-8a80-4474-86a9-a0ae8241e328",
   "metadata": {},
   "outputs": [],
   "source": []
  },
  {
   "cell_type": "code",
   "execution_count": null,
   "id": "451896b3-0593-4220-87f2-3b01ffbd290f",
   "metadata": {},
   "outputs": [],
   "source": [
    "如果第三方库里面的函数方法无法做到你需要的数据处理结果，可以加接收函数 .apply 函数，比如 s.apply 和 df1.apply"
   ]
  },
  {
   "cell_type": "code",
   "execution_count": null,
   "id": "4792f215-a28b-438a-a135-f37b18931a28",
   "metadata": {},
   "outputs": [],
   "source": [
    "describe方法 df1.describe 就是各列的统计信息 而且只计算有数字的列，如果有字符会自动忽略"
   ]
  },
  {
   "cell_type": "code",
   "execution_count": null,
   "id": "728e74a7-3b67-435e-a2be-d7d60b16fcd8",
   "metadata": {},
   "outputs": [],
   "source": []
  },
  {
   "cell_type": "code",
   "execution_count": null,
   "id": "199a0a6f-75e3-4c85-99fb-851a3ce89ee4",
   "metadata": {},
   "outputs": [],
   "source": [
    "\n",
    "\n"
   ]
  },
  {
   "cell_type": "code",
   "execution_count": 20,
   "id": "aa1fd07e-1fa3-4bd0-9ed3-3a7c0b6f028a",
   "metadata": {},
   "outputs": [],
   "source": [
    "import pandas as pd\n",
    "import numpy  as np"
   ]
  },
  {
   "cell_type": "code",
   "execution_count": 3,
   "id": "5bace64a-faac-4b21-a55a-6f1c2028988d",
   "metadata": {},
   "outputs": [
    {
     "data": {
      "text/html": [
       "<div>\n",
       "<style scoped>\n",
       "    .dataframe tbody tr th:only-of-type {\n",
       "        vertical-align: middle;\n",
       "    }\n",
       "\n",
       "    .dataframe tbody tr th {\n",
       "        vertical-align: top;\n",
       "    }\n",
       "\n",
       "    .dataframe thead th {\n",
       "        text-align: right;\n",
       "    }\n",
       "</style>\n",
       "<table border=\"1\" class=\"dataframe\">\n",
       "  <thead>\n",
       "    <tr style=\"text-align: right;\">\n",
       "      <th></th>\n",
       "      <th>001</th>\n",
       "      <th>002</th>\n",
       "      <th>003</th>\n",
       "      <th>004</th>\n",
       "      <th>005</th>\n",
       "      <th>006</th>\n",
       "    </tr>\n",
       "  </thead>\n",
       "  <tbody>\n",
       "    <tr>\n",
       "      <th>name</th>\n",
       "      <td>XC</td>\n",
       "      <td>XL</td>\n",
       "      <td>XW</td>\n",
       "      <td>XZ</td>\n",
       "      <td>XZO</td>\n",
       "      <td>XZU</td>\n",
       "    </tr>\n",
       "    <tr>\n",
       "      <th>score1</th>\n",
       "      <td>85</td>\n",
       "      <td>91</td>\n",
       "      <td>86</td>\n",
       "      <td>79</td>\n",
       "      <td>96</td>\n",
       "      <td>81</td>\n",
       "    </tr>\n",
       "    <tr>\n",
       "      <th>score2</th>\n",
       "      <td>95</td>\n",
       "      <td>92</td>\n",
       "      <td>81</td>\n",
       "      <td>89</td>\n",
       "      <td>91</td>\n",
       "      <td>89</td>\n",
       "    </tr>\n",
       "    <tr>\n",
       "      <th>score3</th>\n",
       "      <td>92</td>\n",
       "      <td>94</td>\n",
       "      <td>89</td>\n",
       "      <td>95</td>\n",
       "      <td>91</td>\n",
       "      <td>92</td>\n",
       "    </tr>\n",
       "  </tbody>\n",
       "</table>\n",
       "</div>"
      ],
      "text/plain": [
       "       001 002 003 004  005  006\n",
       "name    XC  XL  XW  XZ  XZO  XZU\n",
       "score1  85  91  86  79   96   81\n",
       "score2  95  92  81  89   91   89\n",
       "score3  92  94  89  95   91   92"
      ]
     },
     "execution_count": 3,
     "metadata": {},
     "output_type": "execute_result"
    }
   ],
   "source": [
    "students = pd.DataFrame({\"001\":{\"name\":\"XC\", \"score1\":85, \"score2\":95,\"score3\":92}, \"002\":{\"name\":\"XL\", \"score1\":91, \"score2\":92,\"score3\":94}, \"003\":{\"name\":\"XW\", \"score1\":86, \"score2\":81,\"score3\":89}, \"004\":{\"name\":\"XZ\", \"score1\":79, \"score2\":89,\"score3\":95}, \"005\":{\"name\":\"XZO\", \"score1\":96, \"score2\":91,\"score3\":91}, \"006\":{\"name\":\"XZU\", \"score1\":81, \"score2\":89,\"score3\":92}})\n",
    "students"
   ]
  },
  {
   "cell_type": "code",
   "execution_count": null,
   "id": "ae60ac45-43b8-4f08-b9a9-2e2105bd4b85",
   "metadata": {},
   "outputs": [],
   "source": []
  },
  {
   "cell_type": "code",
   "execution_count": 4,
   "id": "1015f77c-dcb1-4aeb-bda3-71e0f19bed9c",
   "metadata": {},
   "outputs": [
    {
     "data": {
      "text/html": [
       "<div>\n",
       "<style scoped>\n",
       "    .dataframe tbody tr th:only-of-type {\n",
       "        vertical-align: middle;\n",
       "    }\n",
       "\n",
       "    .dataframe tbody tr th {\n",
       "        vertical-align: top;\n",
       "    }\n",
       "\n",
       "    .dataframe thead th {\n",
       "        text-align: right;\n",
       "    }\n",
       "</style>\n",
       "<table border=\"1\" class=\"dataframe\">\n",
       "  <thead>\n",
       "    <tr style=\"text-align: right;\">\n",
       "      <th></th>\n",
       "      <th>name</th>\n",
       "      <th>score1</th>\n",
       "      <th>score2</th>\n",
       "      <th>score3</th>\n",
       "    </tr>\n",
       "  </thead>\n",
       "  <tbody>\n",
       "    <tr>\n",
       "      <th>001</th>\n",
       "      <td>XC</td>\n",
       "      <td>85</td>\n",
       "      <td>95</td>\n",
       "      <td>92</td>\n",
       "    </tr>\n",
       "    <tr>\n",
       "      <th>002</th>\n",
       "      <td>XL</td>\n",
       "      <td>91</td>\n",
       "      <td>92</td>\n",
       "      <td>94</td>\n",
       "    </tr>\n",
       "    <tr>\n",
       "      <th>003</th>\n",
       "      <td>XW</td>\n",
       "      <td>86</td>\n",
       "      <td>81</td>\n",
       "      <td>89</td>\n",
       "    </tr>\n",
       "    <tr>\n",
       "      <th>004</th>\n",
       "      <td>XZ</td>\n",
       "      <td>79</td>\n",
       "      <td>89</td>\n",
       "      <td>95</td>\n",
       "    </tr>\n",
       "    <tr>\n",
       "      <th>005</th>\n",
       "      <td>XZO</td>\n",
       "      <td>96</td>\n",
       "      <td>91</td>\n",
       "      <td>91</td>\n",
       "    </tr>\n",
       "    <tr>\n",
       "      <th>006</th>\n",
       "      <td>XZU</td>\n",
       "      <td>81</td>\n",
       "      <td>89</td>\n",
       "      <td>92</td>\n",
       "    </tr>\n",
       "  </tbody>\n",
       "</table>\n",
       "</div>"
      ],
      "text/plain": [
       "    name score1 score2 score3\n",
       "001   XC     85     95     92\n",
       "002   XL     91     92     94\n",
       "003   XW     86     81     89\n",
       "004   XZ     79     89     95\n",
       "005  XZO     96     91     91\n",
       "006  XZU     81     89     92"
      ]
     },
     "execution_count": 4,
     "metadata": {},
     "output_type": "execute_result"
    }
   ],
   "source": [
    "students = pd.DataFrame({\"001\":{\"name\":\"XC\", \"score1\":85, \"score2\":95,\"score3\":92}, \"002\":{\"name\":\"XL\", \"score1\":91, \"score2\":92,\"score3\":94}, \"003\":{\"name\":\"XW\", \"score1\":86, \"score2\":81,\"score3\":89}, \"004\":{\"name\":\"XZ\", \"score1\":79, \"score2\":89,\"score3\":95}, \"005\":{\"name\":\"XZO\", \"score1\":96, \"score2\":91,\"score3\":91}, \"006\":{\"name\":\"XZU\", \"score1\":81, \"score2\":89,\"score3\":92}}).T\n",
    "students"
   ]
  },
  {
   "cell_type": "code",
   "execution_count": 5,
   "id": "3bb0fa75-73c9-4445-a05c-118c7df99eef",
   "metadata": {},
   "outputs": [
    {
     "data": {
      "text/plain": [
       "score1    86.333333\n",
       "score2         89.5\n",
       "score3    92.166667\n",
       "dtype: object"
      ]
     },
     "execution_count": 5,
     "metadata": {},
     "output_type": "execute_result"
    }
   ],
   "source": [
    "students.loc[:, \"score1\":\"score3\"].mean() # 第一个:是包括001到006的切片，loc是包含最后一个，iloc则不包含"
   ]
  },
  {
   "cell_type": "code",
   "execution_count": 9,
   "id": "fed2a5a5-22c5-460a-92ab-b48985d3d658",
   "metadata": {},
   "outputs": [],
   "source": [
    "#上面默认给出了每列的平均值 （axis=0），但我们想要的是每一行的平均值"
   ]
  },
  {
   "cell_type": "code",
   "execution_count": 7,
   "id": "3c1d4b8e-a4d1-4506-866a-62230ec108ff",
   "metadata": {},
   "outputs": [],
   "source": [
    "average = students.loc[:, \"score1\":\"score3\"].mean(axis=1)"
   ]
  },
  {
   "cell_type": "code",
   "execution_count": 17,
   "id": "dced2a51-2101-46b0-9407-a1206ba87cac",
   "metadata": {},
   "outputs": [
    {
     "data": {
      "text/plain": [
       "001     XC\n",
       "002     XL\n",
       "003     XW\n",
       "004     XZ\n",
       "005    XZO\n",
       "006    XZU\n",
       "Name: name, dtype: object"
      ]
     },
     "execution_count": 17,
     "metadata": {},
     "output_type": "execute_result"
    }
   ],
   "source": [
    "name1 = students[\"name\"]\n",
    "name1"
   ]
  },
  {
   "cell_type": "code",
   "execution_count": 19,
   "id": "d33a66ee-923e-4038-bdb6-2929a67c0222",
   "metadata": {},
   "outputs": [
    {
     "data": {
      "text/html": [
       "<div>\n",
       "<style scoped>\n",
       "    .dataframe tbody tr th:only-of-type {\n",
       "        vertical-align: middle;\n",
       "    }\n",
       "\n",
       "    .dataframe tbody tr th {\n",
       "        vertical-align: top;\n",
       "    }\n",
       "\n",
       "    .dataframe thead th {\n",
       "        text-align: right;\n",
       "    }\n",
       "</style>\n",
       "<table border=\"1\" class=\"dataframe\">\n",
       "  <thead>\n",
       "    <tr style=\"text-align: right;\">\n",
       "      <th></th>\n",
       "      <th>姓名</th>\n",
       "      <th>平均分</th>\n",
       "    </tr>\n",
       "  </thead>\n",
       "  <tbody>\n",
       "    <tr>\n",
       "      <th>001</th>\n",
       "      <td>XC</td>\n",
       "      <td>90.666667</td>\n",
       "    </tr>\n",
       "    <tr>\n",
       "      <th>002</th>\n",
       "      <td>XL</td>\n",
       "      <td>92.333333</td>\n",
       "    </tr>\n",
       "    <tr>\n",
       "      <th>003</th>\n",
       "      <td>XW</td>\n",
       "      <td>85.333333</td>\n",
       "    </tr>\n",
       "    <tr>\n",
       "      <th>004</th>\n",
       "      <td>XZ</td>\n",
       "      <td>87.666667</td>\n",
       "    </tr>\n",
       "    <tr>\n",
       "      <th>005</th>\n",
       "      <td>XZO</td>\n",
       "      <td>92.666667</td>\n",
       "    </tr>\n",
       "    <tr>\n",
       "      <th>006</th>\n",
       "      <td>XZU</td>\n",
       "      <td>87.333333</td>\n",
       "    </tr>\n",
       "  </tbody>\n",
       "</table>\n",
       "</div>"
      ],
      "text/plain": [
       "      姓名        平均分\n",
       "001   XC  90.666667\n",
       "002   XL  92.333333\n",
       "003   XW  85.333333\n",
       "004   XZ  87.666667\n",
       "005  XZO  92.666667\n",
       "006  XZU  87.333333"
      ]
     },
     "execution_count": 19,
     "metadata": {},
     "output_type": "execute_result"
    }
   ],
   "source": [
    "students_average1 = pd.DataFrame({\"姓名\":name1, \"平均分\":average})\n",
    "students_average1 "
   ]
  },
  {
   "cell_type": "code",
   "execution_count": null,
   "id": "1eb90387-470a-45c5-9b21-b22d6fc67f05",
   "metadata": {},
   "outputs": [],
   "source": [
    "# 输出每次考试第二高的分数组成的Series， 可以尝试结合匿名函数 （适用于逻辑较为简单的，逻辑复杂则使用def）"
   ]
  },
  {
   "cell_type": "code",
   "execution_count": 21,
   "id": "7845471a-7c39-4c25-8c00-cb892fd0a537",
   "metadata": {},
   "outputs": [
    {
     "data": {
      "text/plain": [
       "score1    91\n",
       "score2    92\n",
       "score3    94\n",
       "dtype: int64"
      ]
     },
     "execution_count": 21,
     "metadata": {},
     "output_type": "execute_result"
    }
   ],
   "source": [
    "students.loc [:,\"score1\":\"score3\"].apply(lambda x: np.sort(x)[-2])  # x 是自定义的 ,利用np库sort函数进行排序在返回给 X，倒数第二个值即为第二高的值（因为先排序了）"
   ]
  },
  {
   "cell_type": "code",
   "execution_count": 29,
   "id": "b3b675b4-ca7a-4ab2-b095-131dcdb74486",
   "metadata": {},
   "outputs": [],
   "source": [
    "def get_grade(sco):\n",
    "    if sco >= 95:\n",
    "        return \"A+\"\n",
    "    elif sco >= 90:\n",
    "        return \"A\"\n",
    "    elif sco >=85:\n",
    "        return \"B+\"\n",
    "    elif sco >= 80:\n",
    "        return \"B\"\n",
    "    elif sco >= 75:\n",
    "        return \"C+\"\n",
    "    else:\n",
    "        return \"C\""
   ]
  },
  {
   "cell_type": "code",
   "execution_count": null,
   "id": "fea7ce3c-b71c-4daf-9e1c-a8c569aa3de9",
   "metadata": {},
   "outputs": [],
   "source": [
    "students.loc[:,\"score1\":\"score3\"] #先提取出来 数字"
   ]
  },
  {
   "cell_type": "code",
   "execution_count": 30,
   "id": "dfea499e-f361-4882-a9ef-007275e55121",
   "metadata": {},
   "outputs": [
    {
     "name": "stderr",
     "output_type": "stream",
     "text": [
      "C:\\Users\\ooazh\\AppData\\Local\\Temp\\ipykernel_39400\\4283995628.py:1: FutureWarning: DataFrame.applymap has been deprecated. Use DataFrame.map instead.\n",
      "  students.loc[:,\"score1\":\"score3\"].applymap(get_grade) # 再进行函数执行\n"
     ]
    },
    {
     "data": {
      "text/html": [
       "<div>\n",
       "<style scoped>\n",
       "    .dataframe tbody tr th:only-of-type {\n",
       "        vertical-align: middle;\n",
       "    }\n",
       "\n",
       "    .dataframe tbody tr th {\n",
       "        vertical-align: top;\n",
       "    }\n",
       "\n",
       "    .dataframe thead th {\n",
       "        text-align: right;\n",
       "    }\n",
       "</style>\n",
       "<table border=\"1\" class=\"dataframe\">\n",
       "  <thead>\n",
       "    <tr style=\"text-align: right;\">\n",
       "      <th></th>\n",
       "      <th>score1</th>\n",
       "      <th>score2</th>\n",
       "      <th>score3</th>\n",
       "    </tr>\n",
       "  </thead>\n",
       "  <tbody>\n",
       "    <tr>\n",
       "      <th>001</th>\n",
       "      <td>B+</td>\n",
       "      <td>A+</td>\n",
       "      <td>A</td>\n",
       "    </tr>\n",
       "    <tr>\n",
       "      <th>002</th>\n",
       "      <td>A</td>\n",
       "      <td>A</td>\n",
       "      <td>A</td>\n",
       "    </tr>\n",
       "    <tr>\n",
       "      <th>003</th>\n",
       "      <td>B+</td>\n",
       "      <td>B</td>\n",
       "      <td>B+</td>\n",
       "    </tr>\n",
       "    <tr>\n",
       "      <th>004</th>\n",
       "      <td>C+</td>\n",
       "      <td>B+</td>\n",
       "      <td>A+</td>\n",
       "    </tr>\n",
       "    <tr>\n",
       "      <th>005</th>\n",
       "      <td>A+</td>\n",
       "      <td>A</td>\n",
       "      <td>A</td>\n",
       "    </tr>\n",
       "    <tr>\n",
       "      <th>006</th>\n",
       "      <td>B</td>\n",
       "      <td>B+</td>\n",
       "      <td>A</td>\n",
       "    </tr>\n",
       "  </tbody>\n",
       "</table>\n",
       "</div>"
      ],
      "text/plain": [
       "    score1 score2 score3\n",
       "001     B+     A+      A\n",
       "002      A      A      A\n",
       "003     B+      B     B+\n",
       "004     C+     B+     A+\n",
       "005     A+      A      A\n",
       "006      B     B+      A"
      ]
     },
     "execution_count": 30,
     "metadata": {},
     "output_type": "execute_result"
    }
   ],
   "source": [
    "students.loc[:,\"score1\":\"score3\"].applymap(get_grade) # 再进行函数执行"
   ]
  },
  {
   "cell_type": "code",
   "execution_count": 32,
   "id": "2c02f6fe-f99c-486a-9e83-50c22e6bcaaf",
   "metadata": {},
   "outputs": [
    {
     "data": {
      "text/html": [
       "<div>\n",
       "<style scoped>\n",
       "    .dataframe tbody tr th:only-of-type {\n",
       "        vertical-align: middle;\n",
       "    }\n",
       "\n",
       "    .dataframe tbody tr th {\n",
       "        vertical-align: top;\n",
       "    }\n",
       "\n",
       "    .dataframe thead th {\n",
       "        text-align: right;\n",
       "    }\n",
       "</style>\n",
       "<table border=\"1\" class=\"dataframe\">\n",
       "  <thead>\n",
       "    <tr style=\"text-align: right;\">\n",
       "      <th></th>\n",
       "      <th>name</th>\n",
       "      <th>score1</th>\n",
       "      <th>score2</th>\n",
       "      <th>score3</th>\n",
       "    </tr>\n",
       "  </thead>\n",
       "  <tbody>\n",
       "    <tr>\n",
       "      <th>count</th>\n",
       "      <td>6</td>\n",
       "      <td>6</td>\n",
       "      <td>6</td>\n",
       "      <td>6</td>\n",
       "    </tr>\n",
       "    <tr>\n",
       "      <th>unique</th>\n",
       "      <td>6</td>\n",
       "      <td>6</td>\n",
       "      <td>5</td>\n",
       "      <td>5</td>\n",
       "    </tr>\n",
       "    <tr>\n",
       "      <th>top</th>\n",
       "      <td>XC</td>\n",
       "      <td>85</td>\n",
       "      <td>89</td>\n",
       "      <td>92</td>\n",
       "    </tr>\n",
       "    <tr>\n",
       "      <th>freq</th>\n",
       "      <td>1</td>\n",
       "      <td>1</td>\n",
       "      <td>2</td>\n",
       "      <td>2</td>\n",
       "    </tr>\n",
       "  </tbody>\n",
       "</table>\n",
       "</div>"
      ],
      "text/plain": [
       "       name  score1  score2  score3\n",
       "count     6       6       6       6\n",
       "unique    6       6       5       5\n",
       "top      XC      85      89      92\n",
       "freq      1       1       2       2"
      ]
     },
     "execution_count": 32,
     "metadata": {},
     "output_type": "execute_result"
    }
   ],
   "source": [
    "students.describe() # 当成字符串执行了 （string是object的子类）"
   ]
  },
  {
   "cell_type": "code",
   "execution_count": null,
   "id": "fd78f7e9-e122-452a-86e6-8f3487677dd3",
   "metadata": {},
   "outputs": [],
   "source": [
    "students[\"score1\"].astype(\"int\") # 所以 转换成int类型"
   ]
  },
  {
   "cell_type": "code",
   "execution_count": 34,
   "id": "f01166ce-c2a6-47f9-8b08-b654e61f2c04",
   "metadata": {},
   "outputs": [
    {
     "data": {
      "text/html": [
       "<div>\n",
       "<style scoped>\n",
       "    .dataframe tbody tr th:only-of-type {\n",
       "        vertical-align: middle;\n",
       "    }\n",
       "\n",
       "    .dataframe tbody tr th {\n",
       "        vertical-align: top;\n",
       "    }\n",
       "\n",
       "    .dataframe thead th {\n",
       "        text-align: right;\n",
       "    }\n",
       "</style>\n",
       "<table border=\"1\" class=\"dataframe\">\n",
       "  <thead>\n",
       "    <tr style=\"text-align: right;\">\n",
       "      <th></th>\n",
       "      <th>score1</th>\n",
       "      <th>score2</th>\n",
       "      <th>score3</th>\n",
       "    </tr>\n",
       "  </thead>\n",
       "  <tbody>\n",
       "    <tr>\n",
       "      <th>count</th>\n",
       "      <td>6.000000</td>\n",
       "      <td>6.000000</td>\n",
       "      <td>6.000000</td>\n",
       "    </tr>\n",
       "    <tr>\n",
       "      <th>mean</th>\n",
       "      <td>86.333333</td>\n",
       "      <td>89.500000</td>\n",
       "      <td>92.166667</td>\n",
       "    </tr>\n",
       "    <tr>\n",
       "      <th>std</th>\n",
       "      <td>6.314006</td>\n",
       "      <td>4.722288</td>\n",
       "      <td>2.136976</td>\n",
       "    </tr>\n",
       "    <tr>\n",
       "      <th>min</th>\n",
       "      <td>79.000000</td>\n",
       "      <td>81.000000</td>\n",
       "      <td>89.000000</td>\n",
       "    </tr>\n",
       "    <tr>\n",
       "      <th>25%</th>\n",
       "      <td>82.000000</td>\n",
       "      <td>89.000000</td>\n",
       "      <td>91.250000</td>\n",
       "    </tr>\n",
       "    <tr>\n",
       "      <th>50%</th>\n",
       "      <td>85.500000</td>\n",
       "      <td>90.000000</td>\n",
       "      <td>92.000000</td>\n",
       "    </tr>\n",
       "    <tr>\n",
       "      <th>75%</th>\n",
       "      <td>89.750000</td>\n",
       "      <td>91.750000</td>\n",
       "      <td>93.500000</td>\n",
       "    </tr>\n",
       "    <tr>\n",
       "      <th>max</th>\n",
       "      <td>96.000000</td>\n",
       "      <td>95.000000</td>\n",
       "      <td>95.000000</td>\n",
       "    </tr>\n",
       "  </tbody>\n",
       "</table>\n",
       "</div>"
      ],
      "text/plain": [
       "          score1     score2     score3\n",
       "count   6.000000   6.000000   6.000000\n",
       "mean   86.333333  89.500000  92.166667\n",
       "std     6.314006   4.722288   2.136976\n",
       "min    79.000000  81.000000  89.000000\n",
       "25%    82.000000  89.000000  91.250000\n",
       "50%    85.500000  90.000000  92.000000\n",
       "75%    89.750000  91.750000  93.500000\n",
       "max    96.000000  95.000000  95.000000"
      ]
     },
     "execution_count": 34,
     "metadata": {},
     "output_type": "execute_result"
    }
   ],
   "source": [
    "students[\"score1\"] = students[\"score1\"].astype(\"int\")\n",
    "students[\"score2\"] = students[\"score2\"].astype(\"int\")\n",
    "students[\"score3\"] = students[\"score3\"].astype(\"int\")\n",
    "students.describe() "
   ]
  },
  {
   "cell_type": "code",
   "execution_count": 33,
   "id": "1cd4bbe4-4bad-4dae-aa5e-38e4d58f4707",
   "metadata": {},
   "outputs": [
    {
     "data": {
      "text/html": [
       "<div>\n",
       "<style scoped>\n",
       "    .dataframe tbody tr th:only-of-type {\n",
       "        vertical-align: middle;\n",
       "    }\n",
       "\n",
       "    .dataframe tbody tr th {\n",
       "        vertical-align: top;\n",
       "    }\n",
       "\n",
       "    .dataframe thead th {\n",
       "        text-align: right;\n",
       "    }\n",
       "</style>\n",
       "<table border=\"1\" class=\"dataframe\">\n",
       "  <thead>\n",
       "    <tr style=\"text-align: right;\">\n",
       "      <th></th>\n",
       "      <th>name</th>\n",
       "      <th>score1</th>\n",
       "      <th>score2</th>\n",
       "      <th>score3</th>\n",
       "    </tr>\n",
       "  </thead>\n",
       "  <tbody>\n",
       "    <tr>\n",
       "      <th>count</th>\n",
       "      <td>6</td>\n",
       "      <td>6</td>\n",
       "      <td>6</td>\n",
       "      <td>6</td>\n",
       "    </tr>\n",
       "    <tr>\n",
       "      <th>unique</th>\n",
       "      <td>6</td>\n",
       "      <td>6</td>\n",
       "      <td>5</td>\n",
       "      <td>5</td>\n",
       "    </tr>\n",
       "    <tr>\n",
       "      <th>top</th>\n",
       "      <td>XC</td>\n",
       "      <td>85</td>\n",
       "      <td>89</td>\n",
       "      <td>92</td>\n",
       "    </tr>\n",
       "    <tr>\n",
       "      <th>freq</th>\n",
       "      <td>1</td>\n",
       "      <td>1</td>\n",
       "      <td>2</td>\n",
       "      <td>2</td>\n",
       "    </tr>\n",
       "  </tbody>\n",
       "</table>\n",
       "</div>"
      ],
      "text/plain": [
       "       name  score1  score2  score3\n",
       "count     6       6       6       6\n",
       "unique    6       6       5       5\n",
       "top      XC      85      89      92\n",
       "freq      1       1       2       2"
      ]
     },
     "execution_count": 33,
     "metadata": {},
     "output_type": "execute_result"
    }
   ],
   "source": []
  },
  {
   "cell_type": "markdown",
   "id": "6f2e4484-cd34-42c3-9560-bd30e45fa4b5",
   "metadata": {},
   "source": [
    "**1 获取数据，分内部和外部获取，公司内部获取可能需要给程序员提出需求/或者自行写查询语句来提取。而公开数据的获取方法有直接下载/爬虫/API等**"
   ]
  },
  {
   "cell_type": "markdown",
   "id": "67859c8b-010e-4d4b-a6db-e874d9f6fa5f",
   "metadata": {},
   "source": [
    "爬虫：1.发送请求后并且只能获取网页源代码，第二就必须解析网页源代码内容，才能提取出想要的内容。\n",
    "而API：根据合约要求直接获得需要的数据内容，api一般会以JSON格式返回（纯文本即无字号颜色等特征，程序员喜欢的格式），数据结构类型包括：JSON对象\n",
    "{...包括string ，int，bool，null， float，\n",
    " 还可以加入数组[...] \n",
    "\n",
    "}和数组[]与python字典和列表类似\n",
    "\n",
    "当获取了JSON文件需要解析+转换成python可读的, panda库里有pd.read_json(\"/输入文件路径/\")， 键名key对应dataframe的列名，而value值对应列名下面的数据\n",
    "\n",
    "文件格式：比如data.txt，后缀如果修改，比如data.mp3 那么电脑就会以音乐软件取打开此文件，但实际内容不会改变。\n",
    "\n",
    "CSV格式（也是纯文本格式，以comma逗号分隔和规整的二维结构为规则，体积小易读取，与dataframe结构类型，而json层层嵌套很难看出对应表格什么样）则是数据分析师最爱，\n",
    "\n",
    "**2 解析数据**\n",
    "当文件数据量大时，如果excel打开可能会卡住，excel展示额外格式，加载额外功能等等。所以可以用代码编辑器vs code等和纯文本编辑器打开。当还可以用代码读取转换成dataframe，然后用pandas库里面的方法，自定义指定查看，而不用全部海量加载出来。所以用代码处理数据比用软件要方便又快.。\n",
    "\n",
    "\n",
    "如果原始文件没有列名，也就是第一行就是数据了，解析时加header = None即不要把第一行当成列名，dataframe就会把第一行当成第一条数据\n",
    "pd.read_csv(\"/输入文件路径/\", header = None)，不然csv默认第一行就是列名\n",
    "但是不会把第一列默认解析为索引，而是有自带默认的位置索引，如果需要指定某一列为标签索引，可以传入index_col这个可选参数 \n",
    "pd.read_json(\"/输入文件路径/\"， index_col = \"xxx\") 指定了xxx列为标签索引，进而考索引提取目标数据\n",
    "\n",
    "\n",
    "当列数太多，dataframe会省略到20列，如果需要多查看，可以用pandas的set_option 设置需要看到的列数的上限  pd.set_option (\"display.max_colums\", 150)\n",
    "然后有些值长度太长，没有展示全 默认为50，可以 pd.set_option (\"display.max_colwidth\", 500) 表示每一列里的值最多包含几个字符，例子中500即为上限。\n",
    "\n",
    "df1.head()  df1.tail() df1.info()得到概况信息几行几列数据类型等\n",
    "\n",
    "**3 评估数据（清洗数据，整洁度和干净度的评估）**\n",
    "标准：结构和内容\n",
    "结构上来讲, 处理前的数据为乱数据 与之对应为整洁数据即根据**埃德加·科德的第三范式 包括三个特点 1每列是一个变量(如都是身高的变量) 2每行是一个观察值(某一个人或者物信息) 3每个单元格是一个值**\n",
    "（关于变量的理解可再次翻看视频！！！经典）很多方便人类理解的excel表格是属于不整洁数据的\n",
    "\n",
    "从内容上讲，处理前的数据为脏数据（内容方面需要清洗），反之为干净数据。脏数据包括 **1丢失值NaN 2重复数据 3不一致数据 4无效或者错误数据**\n",
    "\n",
    "整洁度 结构很直观的容易被发现纠正，但是干净度 里面的内容太多不易check\n",
    "假如scores是数据结构dataframe，scores.isnull().sum() 即可查找空值的数量 也可以提取出某一列的空缺值数量 scores[\"考试3\"].isnull.sum()， 如果要查看空缺值的行 scores[scores[\"考试3\"].isnull()],  评估重复值：查看重复数据用duplicated， 评估不一致数据（比如一班和1班）：value_counts()，  评估无效/错误值（比如 离群值）：排序sort函数或者describe也可以\n",
    "\n",
    "**4 清洗数据**\n",
    "第一步先观察 结构：如果不符合第三范式，需要进行转置、拆分变量（62课可再次查看）\n",
    "第二步 内容：对4个特征进行评估，缺失值根据需求处理 可以不处理/可以人工填入/可以删除行/可以平均值填充等；重复数据找出后删除即可；不一致数据需要进行统一；无效数据删除或者替换。\n",
    "具体函数：重命名索引名和列名： rename函数，但只是生效，不会修改原数据，需要重新赋值新变量/或者加入inpalce=Ture就可以原地修改\n",
    "大写行名 df2.rename(columns= str.upper), 设置某一列为索引df2.set_index(\"输入所需要的索引列名\")； df2.sort_index(inplace=ture)表示排序索引(因为索引顺序乱)，inpalce指的原地改变原函数；\n",
    "对列进行拆分，str.split(\"/\", expand = True)表示将原本在一列里的两个变量拆分成两个并分布两列， 用drop函数删除原本的列； 合并列 str.cat；转换成长数据melt函数（具体看64课），，还有explode函数。\n",
    "（series方法）删除某一行 df.drop(2) 表示删除第三行，axis默认等于0就是读取行，等于1就是执行列\n",
    "对于缺失值需要定位它 series方法 df3.loc[\"001\":\"009\", \"日期\"] = \"2029-01-09\" 提取后在替换；或者df3[\"B\"].fillna(df[\"B\"].mean()) 表示找到所有空值并替换成平均值\n",
    "（*series方法就是基于索引加列名而执行 对某一行或者列进行修改，而dataframe的方法可以基于键值对进行修改替换*）\n",
    "dataframe结构 df5.dropna() 表示删除空值所在的行 ， df.dropna(subset = [\"工资\"]) 即查看工资这一列为空缺值的位置，并删除所在行. df.dropna(axis=1) 每一列有空值就删.\n",
    "\n",
    "删除重复值 Series调用  df6[\"姓名\"].drop_duplicates()   DateFrame调用 df6.drop_duplicates\n",
    "\n",
    "对值类型进行转换 str int float bool list..  还有一种数据类型category 分类数据： 数据可以被分为分类数据（男女/ 金银铜牌...）和数值数据（具体数值）。\n",
    "如果astype转换成category时 可以节约内存空间/并且有利于pandas自动选用合适的统计方法可视化。\n",
    "\n",
    "保存清洗后的数据：df1.to_csv(\"xxx.csv\")"
   ]
  },
  {
   "cell_type": "markdown",
   "id": "da366f7e-0a00-46c4-bf34-5703e8175e02",
   "metadata": {},
   "source": []
  },
  {
   "cell_type": "code",
   "execution_count": null,
   "id": "553b6376-0ddc-48ee-ae45-1d663fac6e25",
   "metadata": {},
   "outputs": [],
   "source": [
    "# 按DD删除  按m转换成markdown  按b 扩列一行  shift+enter是执行 "
   ]
  },
  {
   "cell_type": "markdown",
   "id": "dfa8cf7f-34db-4a9e-b7af-b68b2f28e4e2",
   "metadata": {},
   "source": [
    "## 读取数据 reading data"
   ]
  },
  {
   "cell_type": "code",
   "execution_count": 3,
   "id": "c98186f3-c898-444c-9e34-c52f2ba75758",
   "metadata": {},
   "outputs": [],
   "source": [
    "import pandas as pd"
   ]
  },
  {
   "cell_type": "code",
   "execution_count": 7,
   "id": "b402ac86-10be-4ae8-8032-3c73275e856a",
   "metadata": {},
   "outputs": [],
   "source": [
    "original_data = pd.read_csv(\"C:/Users/ooazh/AppData/Local/Temp/baiduyunguanjia/onlinedit/cache/230bdfd15d0a26448875b7d26790ad13/e_commerce.csv\")"
   ]
  },
  {
   "cell_type": "code",
   "execution_count": 8,
   "id": "a0d7d3d5-b988-4c0a-8032-0f4c6d96a976",
   "metadata": {},
   "outputs": [
    {
     "data": {
      "text/html": [
       "<div>\n",
       "<style scoped>\n",
       "    .dataframe tbody tr th:only-of-type {\n",
       "        vertical-align: middle;\n",
       "    }\n",
       "\n",
       "    .dataframe tbody tr th {\n",
       "        vertical-align: top;\n",
       "    }\n",
       "\n",
       "    .dataframe thead th {\n",
       "        text-align: right;\n",
       "    }\n",
       "</style>\n",
       "<table border=\"1\" class=\"dataframe\">\n",
       "  <thead>\n",
       "    <tr style=\"text-align: right;\">\n",
       "      <th></th>\n",
       "      <th>InvoiceNo</th>\n",
       "      <th>StockCode</th>\n",
       "      <th>Description</th>\n",
       "      <th>Quantity</th>\n",
       "      <th>InvoiceDate</th>\n",
       "      <th>UnitPrice</th>\n",
       "      <th>CustomerID</th>\n",
       "      <th>Country</th>\n",
       "    </tr>\n",
       "  </thead>\n",
       "  <tbody>\n",
       "    <tr>\n",
       "      <th>0</th>\n",
       "      <td>536365</td>\n",
       "      <td>85123A</td>\n",
       "      <td>WHITE HANGING HEART T-LIGHT HOLDER</td>\n",
       "      <td>6</td>\n",
       "      <td>12/1/2010 8:26</td>\n",
       "      <td>2.55</td>\n",
       "      <td>17850.0</td>\n",
       "      <td>United Kingdom</td>\n",
       "    </tr>\n",
       "    <tr>\n",
       "      <th>1</th>\n",
       "      <td>536365</td>\n",
       "      <td>71053</td>\n",
       "      <td>WHITE METAL LANTERN</td>\n",
       "      <td>6</td>\n",
       "      <td>12/1/2010 8:26</td>\n",
       "      <td>3.39</td>\n",
       "      <td>17850.0</td>\n",
       "      <td>United Kingdom</td>\n",
       "    </tr>\n",
       "    <tr>\n",
       "      <th>2</th>\n",
       "      <td>536365</td>\n",
       "      <td>84406B</td>\n",
       "      <td>CREAM CUPID HEARTS COAT HANGER</td>\n",
       "      <td>8</td>\n",
       "      <td>12/1/2010 8:26</td>\n",
       "      <td>2.75</td>\n",
       "      <td>17850.0</td>\n",
       "      <td>United Kingdom</td>\n",
       "    </tr>\n",
       "    <tr>\n",
       "      <th>3</th>\n",
       "      <td>536365</td>\n",
       "      <td>84029G</td>\n",
       "      <td>KNITTED UNION FLAG HOT WATER BOTTLE</td>\n",
       "      <td>6</td>\n",
       "      <td>12/1/2010 8:26</td>\n",
       "      <td>3.39</td>\n",
       "      <td>17850.0</td>\n",
       "      <td>United Kingdom</td>\n",
       "    </tr>\n",
       "    <tr>\n",
       "      <th>4</th>\n",
       "      <td>536365</td>\n",
       "      <td>84029E</td>\n",
       "      <td>RED WOOLLY HOTTIE WHITE HEART.</td>\n",
       "      <td>6</td>\n",
       "      <td>12/1/2010 8:26</td>\n",
       "      <td>3.39</td>\n",
       "      <td>17850.0</td>\n",
       "      <td>United Kingdom</td>\n",
       "    </tr>\n",
       "  </tbody>\n",
       "</table>\n",
       "</div>"
      ],
      "text/plain": [
       "  InvoiceNo StockCode                          Description  Quantity  \\\n",
       "0    536365    85123A   WHITE HANGING HEART T-LIGHT HOLDER         6   \n",
       "1    536365     71053                  WHITE METAL LANTERN         6   \n",
       "2    536365    84406B       CREAM CUPID HEARTS COAT HANGER         8   \n",
       "3    536365    84029G  KNITTED UNION FLAG HOT WATER BOTTLE         6   \n",
       "4    536365    84029E       RED WOOLLY HOTTIE WHITE HEART.         6   \n",
       "\n",
       "      InvoiceDate  UnitPrice  CustomerID         Country  \n",
       "0  12/1/2010 8:26       2.55     17850.0  United Kingdom  \n",
       "1  12/1/2010 8:26       3.39     17850.0  United Kingdom  \n",
       "2  12/1/2010 8:26       2.75     17850.0  United Kingdom  \n",
       "3  12/1/2010 8:26       3.39     17850.0  United Kingdom  \n",
       "4  12/1/2010 8:26       3.39     17850.0  United Kingdom  "
      ]
     },
     "execution_count": 8,
     "metadata": {},
     "output_type": "execute_result"
    }
   ],
   "source": [
    "original_data.head()"
   ]
  },
  {
   "cell_type": "markdown",
   "id": "424fdaf3-e8e7-4810-8643-de69f18caa8b",
   "metadata": {},
   "source": [
    "## 评估数据 evaluating date"
   ]
  },
  {
   "cell_type": "markdown",
   "id": "715cbb4e-7739-418a-a3dd-56390b2ba170",
   "metadata": {},
   "source": [
    "在这一步，我将对上一部分建立的original data 进行评估\n",
    "\n",
    "主要分为：1整洁度 2干净度"
   ]
  },
  {
   "cell_type": "markdown",
   "id": "e2e1fa09-174a-40e4-9e49-d44697fe7e9b",
   "metadata": {},
   "source": [
    "### 评估数据整洁度"
   ]
  },
  {
   "cell_type": "code",
   "execution_count": 14,
   "id": "9a2ac109-e3d3-4de8-a512-062c72b2e54e",
   "metadata": {},
   "outputs": [
    {
     "data": {
      "text/html": [
       "<div>\n",
       "<style scoped>\n",
       "    .dataframe tbody tr th:only-of-type {\n",
       "        vertical-align: middle;\n",
       "    }\n",
       "\n",
       "    .dataframe tbody tr th {\n",
       "        vertical-align: top;\n",
       "    }\n",
       "\n",
       "    .dataframe thead th {\n",
       "        text-align: right;\n",
       "    }\n",
       "</style>\n",
       "<table border=\"1\" class=\"dataframe\">\n",
       "  <thead>\n",
       "    <tr style=\"text-align: right;\">\n",
       "      <th></th>\n",
       "      <th>InvoiceNo</th>\n",
       "      <th>StockCode</th>\n",
       "      <th>Description</th>\n",
       "      <th>Quantity</th>\n",
       "      <th>InvoiceDate</th>\n",
       "      <th>UnitPrice</th>\n",
       "      <th>CustomerID</th>\n",
       "      <th>Country</th>\n",
       "    </tr>\n",
       "  </thead>\n",
       "  <tbody>\n",
       "    <tr>\n",
       "      <th>147456</th>\n",
       "      <td>549118</td>\n",
       "      <td>22550</td>\n",
       "      <td>HOLIDAY FUN LUDO</td>\n",
       "      <td>4</td>\n",
       "      <td>4/6/2011 13:18</td>\n",
       "      <td>3.75</td>\n",
       "      <td>14911.0</td>\n",
       "      <td>EIRE</td>\n",
       "    </tr>\n",
       "    <tr>\n",
       "      <th>410477</th>\n",
       "      <td>572103</td>\n",
       "      <td>22440</td>\n",
       "      <td>BALLOON WATER BOMB PACK OF 35</td>\n",
       "      <td>10</td>\n",
       "      <td>10/20/2011 15:57</td>\n",
       "      <td>0.42</td>\n",
       "      <td>17571.0</td>\n",
       "      <td>United Kingdom</td>\n",
       "    </tr>\n",
       "    <tr>\n",
       "      <th>294760</th>\n",
       "      <td>562717</td>\n",
       "      <td>46776F</td>\n",
       "      <td>WOVEN ROSE GARDEN CUSHION COVER</td>\n",
       "      <td>1</td>\n",
       "      <td>8/8/2011 15:42</td>\n",
       "      <td>4.13</td>\n",
       "      <td>NaN</td>\n",
       "      <td>United Kingdom</td>\n",
       "    </tr>\n",
       "    <tr>\n",
       "      <th>236225</th>\n",
       "      <td>557745</td>\n",
       "      <td>22031</td>\n",
       "      <td>BOTANICAL LAVENDER BIRTHDAY CARD</td>\n",
       "      <td>12</td>\n",
       "      <td>6/22/2011 12:16</td>\n",
       "      <td>0.42</td>\n",
       "      <td>15750.0</td>\n",
       "      <td>United Kingdom</td>\n",
       "    </tr>\n",
       "    <tr>\n",
       "      <th>523088</th>\n",
       "      <td>580501</td>\n",
       "      <td>21411</td>\n",
       "      <td>GINGHAM HEART  DOORSTOP RED</td>\n",
       "      <td>2</td>\n",
       "      <td>12/4/2011 13:00</td>\n",
       "      <td>1.95</td>\n",
       "      <td>14546.0</td>\n",
       "      <td>United Kingdom</td>\n",
       "    </tr>\n",
       "    <tr>\n",
       "      <th>96517</th>\n",
       "      <td>544569</td>\n",
       "      <td>22907</td>\n",
       "      <td>PACK OF 20 NAPKINS PANTRY DESIGN</td>\n",
       "      <td>2</td>\n",
       "      <td>2/21/2011 12:58</td>\n",
       "      <td>0.85</td>\n",
       "      <td>16980.0</td>\n",
       "      <td>United Kingdom</td>\n",
       "    </tr>\n",
       "    <tr>\n",
       "      <th>180568</th>\n",
       "      <td>552327</td>\n",
       "      <td>22360</td>\n",
       "      <td>GLASS JAR ENGLISH CONFECTIONERY</td>\n",
       "      <td>12</td>\n",
       "      <td>5/9/2011 10:03</td>\n",
       "      <td>2.95</td>\n",
       "      <td>17007.0</td>\n",
       "      <td>United Kingdom</td>\n",
       "    </tr>\n",
       "    <tr>\n",
       "      <th>225208</th>\n",
       "      <td>556636</td>\n",
       "      <td>84600</td>\n",
       "      <td>NEW BAROQUE JEWELLERY BOX</td>\n",
       "      <td>1</td>\n",
       "      <td>6/13/2011 15:30</td>\n",
       "      <td>15.79</td>\n",
       "      <td>NaN</td>\n",
       "      <td>United Kingdom</td>\n",
       "    </tr>\n",
       "    <tr>\n",
       "      <th>328909</th>\n",
       "      <td>565838</td>\n",
       "      <td>23092</td>\n",
       "      <td>LARGE ANTIQUE WHITE PHOTO FRAME</td>\n",
       "      <td>12</td>\n",
       "      <td>9/7/2011 11:43</td>\n",
       "      <td>6.65</td>\n",
       "      <td>15071.0</td>\n",
       "      <td>United Kingdom</td>\n",
       "    </tr>\n",
       "    <tr>\n",
       "      <th>60666</th>\n",
       "      <td>541422</td>\n",
       "      <td>84968A</td>\n",
       "      <td>SET OF 16 VINTAGE ROSE CUTLERY</td>\n",
       "      <td>2</td>\n",
       "      <td>1/17/2011 17:48</td>\n",
       "      <td>8.29</td>\n",
       "      <td>NaN</td>\n",
       "      <td>United Kingdom</td>\n",
       "    </tr>\n",
       "  </tbody>\n",
       "</table>\n",
       "</div>"
      ],
      "text/plain": [
       "       InvoiceNo StockCode                       Description  Quantity  \\\n",
       "147456    549118     22550                  HOLIDAY FUN LUDO         4   \n",
       "410477    572103     22440     BALLOON WATER BOMB PACK OF 35        10   \n",
       "294760    562717    46776F  WOVEN ROSE GARDEN CUSHION COVER          1   \n",
       "236225    557745     22031  BOTANICAL LAVENDER BIRTHDAY CARD        12   \n",
       "523088    580501     21411       GINGHAM HEART  DOORSTOP RED         2   \n",
       "96517     544569     22907  PACK OF 20 NAPKINS PANTRY DESIGN         2   \n",
       "180568    552327     22360   GLASS JAR ENGLISH CONFECTIONERY        12   \n",
       "225208    556636     84600        NEW BAROQUE JEWELLERY BOX          1   \n",
       "328909    565838     23092   LARGE ANTIQUE WHITE PHOTO FRAME        12   \n",
       "60666     541422    84968A    SET OF 16 VINTAGE ROSE CUTLERY         2   \n",
       "\n",
       "             InvoiceDate  UnitPrice  CustomerID         Country  \n",
       "147456    4/6/2011 13:18       3.75     14911.0            EIRE  \n",
       "410477  10/20/2011 15:57       0.42     17571.0  United Kingdom  \n",
       "294760    8/8/2011 15:42       4.13         NaN  United Kingdom  \n",
       "236225   6/22/2011 12:16       0.42     15750.0  United Kingdom  \n",
       "523088   12/4/2011 13:00       1.95     14546.0  United Kingdom  \n",
       "96517    2/21/2011 12:58       0.85     16980.0  United Kingdom  \n",
       "180568    5/9/2011 10:03       2.95     17007.0  United Kingdom  \n",
       "225208   6/13/2011 15:30      15.79         NaN  United Kingdom  \n",
       "328909    9/7/2011 11:43       6.65     15071.0  United Kingdom  \n",
       "60666    1/17/2011 17:48       8.29         NaN  United Kingdom  "
      ]
     },
     "execution_count": 14,
     "metadata": {},
     "output_type": "execute_result"
    }
   ],
   "source": [
    "original_data.sample(10)  # sample some data randomly"
   ]
  },
  {
   "cell_type": "markdown",
   "id": "6a8197d6-eae9-4787-9a63-b922cfaace85",
   "metadata": {},
   "source": [
    "从随机的10行数据来看，数据符合第三范式"
   ]
  },
  {
   "cell_type": "markdown",
   "id": "c660e2be-d355-4a9e-96f5-ab61825e7cc8",
   "metadata": {},
   "source": [
    "### 评估数据干净度"
   ]
  },
  {
   "cell_type": "code",
   "execution_count": 15,
   "id": "91538095-d16b-4a2a-939f-37d18b213a75",
   "metadata": {},
   "outputs": [
    {
     "name": "stdout",
     "output_type": "stream",
     "text": [
      "<class 'pandas.core.frame.DataFrame'>\n",
      "RangeIndex: 541909 entries, 0 to 541908\n",
      "Data columns (total 8 columns):\n",
      " #   Column       Non-Null Count   Dtype  \n",
      "---  ------       --------------   -----  \n",
      " 0   InvoiceNo    541909 non-null  object \n",
      " 1   StockCode    541909 non-null  object \n",
      " 2   Description  540455 non-null  object \n",
      " 3   Quantity     541909 non-null  int64  \n",
      " 4   InvoiceDate  541909 non-null  object \n",
      " 5   UnitPrice    541909 non-null  float64\n",
      " 6   CustomerID   406829 non-null  float64\n",
      " 7   Country      541909 non-null  object \n",
      "dtypes: float64(2), int64(1), object(5)\n",
      "memory usage: 33.1+ MB\n"
     ]
    }
   ],
   "source": [
    "original_data.info() # check where i can see which variable， and 每个变量里有多少非空值，以及数据类型是什么"
   ]
  },
  {
   "cell_type": "markdown",
   "id": "cd119824-d0b2-4838-b5cd-e0cfdc51863e",
   "metadata": {},
   "source": [
    "从结果输出来看，数据共有541909条观察值，而变量description, customerID存在缺失值。\n",
    "\n",
    "此外，InvoiceData 的数据类型应该是日期，CustomerID 应该是string，需要进行格式转换。"
   ]
  },
  {
   "cell_type": "markdown",
   "id": "8a411575-ccf8-405e-9636-a5f1a6ecbf19",
   "metadata": {},
   "source": [
    "#### 评估缺失数据"
   ]
  },
  {
   "cell_type": "code",
   "execution_count": 20,
   "id": "7cc38409-1493-4b1f-a0f8-6fb24d6fb03a",
   "metadata": {},
   "outputs": [
    {
     "data": {
      "text/html": [
       "<div>\n",
       "<style scoped>\n",
       "    .dataframe tbody tr th:only-of-type {\n",
       "        vertical-align: middle;\n",
       "    }\n",
       "\n",
       "    .dataframe tbody tr th {\n",
       "        vertical-align: top;\n",
       "    }\n",
       "\n",
       "    .dataframe thead th {\n",
       "        text-align: right;\n",
       "    }\n",
       "</style>\n",
       "<table border=\"1\" class=\"dataframe\">\n",
       "  <thead>\n",
       "    <tr style=\"text-align: right;\">\n",
       "      <th></th>\n",
       "      <th>InvoiceNo</th>\n",
       "      <th>StockCode</th>\n",
       "      <th>Description</th>\n",
       "      <th>Quantity</th>\n",
       "      <th>InvoiceDate</th>\n",
       "      <th>UnitPrice</th>\n",
       "      <th>CustomerID</th>\n",
       "      <th>Country</th>\n",
       "    </tr>\n",
       "  </thead>\n",
       "  <tbody>\n",
       "    <tr>\n",
       "      <th>622</th>\n",
       "      <td>536414</td>\n",
       "      <td>22139</td>\n",
       "      <td>NaN</td>\n",
       "      <td>56</td>\n",
       "      <td>12/1/2010 11:52</td>\n",
       "      <td>0.0</td>\n",
       "      <td>NaN</td>\n",
       "      <td>United Kingdom</td>\n",
       "    </tr>\n",
       "    <tr>\n",
       "      <th>1970</th>\n",
       "      <td>536545</td>\n",
       "      <td>21134</td>\n",
       "      <td>NaN</td>\n",
       "      <td>1</td>\n",
       "      <td>12/1/2010 14:32</td>\n",
       "      <td>0.0</td>\n",
       "      <td>NaN</td>\n",
       "      <td>United Kingdom</td>\n",
       "    </tr>\n",
       "    <tr>\n",
       "      <th>1971</th>\n",
       "      <td>536546</td>\n",
       "      <td>22145</td>\n",
       "      <td>NaN</td>\n",
       "      <td>1</td>\n",
       "      <td>12/1/2010 14:33</td>\n",
       "      <td>0.0</td>\n",
       "      <td>NaN</td>\n",
       "      <td>United Kingdom</td>\n",
       "    </tr>\n",
       "    <tr>\n",
       "      <th>1972</th>\n",
       "      <td>536547</td>\n",
       "      <td>37509</td>\n",
       "      <td>NaN</td>\n",
       "      <td>1</td>\n",
       "      <td>12/1/2010 14:33</td>\n",
       "      <td>0.0</td>\n",
       "      <td>NaN</td>\n",
       "      <td>United Kingdom</td>\n",
       "    </tr>\n",
       "    <tr>\n",
       "      <th>1987</th>\n",
       "      <td>536549</td>\n",
       "      <td>85226A</td>\n",
       "      <td>NaN</td>\n",
       "      <td>1</td>\n",
       "      <td>12/1/2010 14:34</td>\n",
       "      <td>0.0</td>\n",
       "      <td>NaN</td>\n",
       "      <td>United Kingdom</td>\n",
       "    </tr>\n",
       "    <tr>\n",
       "      <th>...</th>\n",
       "      <td>...</td>\n",
       "      <td>...</td>\n",
       "      <td>...</td>\n",
       "      <td>...</td>\n",
       "      <td>...</td>\n",
       "      <td>...</td>\n",
       "      <td>...</td>\n",
       "      <td>...</td>\n",
       "    </tr>\n",
       "    <tr>\n",
       "      <th>535322</th>\n",
       "      <td>581199</td>\n",
       "      <td>84581</td>\n",
       "      <td>NaN</td>\n",
       "      <td>-2</td>\n",
       "      <td>12/7/2011 18:26</td>\n",
       "      <td>0.0</td>\n",
       "      <td>NaN</td>\n",
       "      <td>United Kingdom</td>\n",
       "    </tr>\n",
       "    <tr>\n",
       "      <th>535326</th>\n",
       "      <td>581203</td>\n",
       "      <td>23406</td>\n",
       "      <td>NaN</td>\n",
       "      <td>15</td>\n",
       "      <td>12/7/2011 18:31</td>\n",
       "      <td>0.0</td>\n",
       "      <td>NaN</td>\n",
       "      <td>United Kingdom</td>\n",
       "    </tr>\n",
       "    <tr>\n",
       "      <th>535332</th>\n",
       "      <td>581209</td>\n",
       "      <td>21620</td>\n",
       "      <td>NaN</td>\n",
       "      <td>6</td>\n",
       "      <td>12/7/2011 18:35</td>\n",
       "      <td>0.0</td>\n",
       "      <td>NaN</td>\n",
       "      <td>United Kingdom</td>\n",
       "    </tr>\n",
       "    <tr>\n",
       "      <th>536981</th>\n",
       "      <td>581234</td>\n",
       "      <td>72817</td>\n",
       "      <td>NaN</td>\n",
       "      <td>27</td>\n",
       "      <td>12/8/2011 10:33</td>\n",
       "      <td>0.0</td>\n",
       "      <td>NaN</td>\n",
       "      <td>United Kingdom</td>\n",
       "    </tr>\n",
       "    <tr>\n",
       "      <th>538554</th>\n",
       "      <td>581408</td>\n",
       "      <td>85175</td>\n",
       "      <td>NaN</td>\n",
       "      <td>20</td>\n",
       "      <td>12/8/2011 14:06</td>\n",
       "      <td>0.0</td>\n",
       "      <td>NaN</td>\n",
       "      <td>United Kingdom</td>\n",
       "    </tr>\n",
       "  </tbody>\n",
       "</table>\n",
       "<p>1454 rows × 8 columns</p>\n",
       "</div>"
      ],
      "text/plain": [
       "       InvoiceNo StockCode Description  Quantity      InvoiceDate  UnitPrice  \\\n",
       "622       536414     22139         NaN        56  12/1/2010 11:52        0.0   \n",
       "1970      536545     21134         NaN         1  12/1/2010 14:32        0.0   \n",
       "1971      536546     22145         NaN         1  12/1/2010 14:33        0.0   \n",
       "1972      536547     37509         NaN         1  12/1/2010 14:33        0.0   \n",
       "1987      536549    85226A         NaN         1  12/1/2010 14:34        0.0   \n",
       "...          ...       ...         ...       ...              ...        ...   \n",
       "535322    581199     84581         NaN        -2  12/7/2011 18:26        0.0   \n",
       "535326    581203     23406         NaN        15  12/7/2011 18:31        0.0   \n",
       "535332    581209     21620         NaN         6  12/7/2011 18:35        0.0   \n",
       "536981    581234     72817         NaN        27  12/8/2011 10:33        0.0   \n",
       "538554    581408     85175         NaN        20  12/8/2011 14:06        0.0   \n",
       "\n",
       "        CustomerID         Country  \n",
       "622            NaN  United Kingdom  \n",
       "1970           NaN  United Kingdom  \n",
       "1971           NaN  United Kingdom  \n",
       "1972           NaN  United Kingdom  \n",
       "1987           NaN  United Kingdom  \n",
       "...            ...             ...  \n",
       "535322         NaN  United Kingdom  \n",
       "535326         NaN  United Kingdom  \n",
       "535332         NaN  United Kingdom  \n",
       "536981         NaN  United Kingdom  \n",
       "538554         NaN  United Kingdom  \n",
       "\n",
       "[1454 rows x 8 columns]"
      ]
     },
     "execution_count": 20,
     "metadata": {},
     "output_type": "execute_result"
    }
   ],
   "source": [
    "original_data[original_data[\"Description\"].isnull()] # [original_data[\"Description\"].isnull() 这一部分以description是否为null来筛选数据，然后获得其结果布尔值Series，然后把bool值作为索引extract “Description”的空值"
   ]
  },
  {
   "cell_type": "code",
   "execution_count": 21,
   "id": "6919aa71-b7fb-44e4-b95a-36f168fa946e",
   "metadata": {},
   "outputs": [
    {
     "data": {
      "text/html": [
       "<div>\n",
       "<style scoped>\n",
       "    .dataframe tbody tr th:only-of-type {\n",
       "        vertical-align: middle;\n",
       "    }\n",
       "\n",
       "    .dataframe tbody tr th {\n",
       "        vertical-align: top;\n",
       "    }\n",
       "\n",
       "    .dataframe thead th {\n",
       "        text-align: right;\n",
       "    }\n",
       "</style>\n",
       "<table border=\"1\" class=\"dataframe\">\n",
       "  <thead>\n",
       "    <tr style=\"text-align: right;\">\n",
       "      <th></th>\n",
       "      <th>InvoiceNo</th>\n",
       "      <th>StockCode</th>\n",
       "      <th>Description</th>\n",
       "      <th>Quantity</th>\n",
       "      <th>InvoiceDate</th>\n",
       "      <th>UnitPrice</th>\n",
       "      <th>CustomerID</th>\n",
       "      <th>Country</th>\n",
       "    </tr>\n",
       "  </thead>\n",
       "  <tbody>\n",
       "  </tbody>\n",
       "</table>\n",
       "</div>"
      ],
      "text/plain": [
       "Empty DataFrame\n",
       "Columns: [InvoiceNo, StockCode, Description, Quantity, InvoiceDate, UnitPrice, CustomerID, Country]\n",
       "Index: []"
      ]
     },
     "execution_count": 21,
     "metadata": {},
     "output_type": "execute_result"
    }
   ],
   "source": [
    "original_data[(original_data[\"Description\"].isnull()) & (original_data[\"UnitPrice\"] != 0)] # 验证 des（商品名）的值是否为0且uni（单价）的值不等于0"
   ]
  },
  {
   "cell_type": "markdown",
   "id": "8315d542-d102-48a4-b04c-4e0ab920d425",
   "metadata": {},
   "source": [
    "产品名和单价都缺失/无效，我们认为数据无法提供我们分析目的的有效含义，后续可以删除。"
   ]
  },
  {
   "cell_type": "code",
   "execution_count": 23,
   "id": "b60a62dc-4879-4a07-a6e4-f46149f875a3",
   "metadata": {},
   "outputs": [
    {
     "data": {
      "text/html": [
       "<div>\n",
       "<style scoped>\n",
       "    .dataframe tbody tr th:only-of-type {\n",
       "        vertical-align: middle;\n",
       "    }\n",
       "\n",
       "    .dataframe tbody tr th {\n",
       "        vertical-align: top;\n",
       "    }\n",
       "\n",
       "    .dataframe thead th {\n",
       "        text-align: right;\n",
       "    }\n",
       "</style>\n",
       "<table border=\"1\" class=\"dataframe\">\n",
       "  <thead>\n",
       "    <tr style=\"text-align: right;\">\n",
       "      <th></th>\n",
       "      <th>InvoiceNo</th>\n",
       "      <th>StockCode</th>\n",
       "      <th>Description</th>\n",
       "      <th>Quantity</th>\n",
       "      <th>InvoiceDate</th>\n",
       "      <th>UnitPrice</th>\n",
       "      <th>CustomerID</th>\n",
       "      <th>Country</th>\n",
       "    </tr>\n",
       "  </thead>\n",
       "  <tbody>\n",
       "    <tr>\n",
       "      <th>622</th>\n",
       "      <td>536414</td>\n",
       "      <td>22139</td>\n",
       "      <td>NaN</td>\n",
       "      <td>56</td>\n",
       "      <td>12/1/2010 11:52</td>\n",
       "      <td>0.00</td>\n",
       "      <td>NaN</td>\n",
       "      <td>United Kingdom</td>\n",
       "    </tr>\n",
       "    <tr>\n",
       "      <th>1443</th>\n",
       "      <td>536544</td>\n",
       "      <td>21773</td>\n",
       "      <td>DECORATIVE ROSE BATHROOM BOTTLE</td>\n",
       "      <td>1</td>\n",
       "      <td>12/1/2010 14:32</td>\n",
       "      <td>2.51</td>\n",
       "      <td>NaN</td>\n",
       "      <td>United Kingdom</td>\n",
       "    </tr>\n",
       "    <tr>\n",
       "      <th>1444</th>\n",
       "      <td>536544</td>\n",
       "      <td>21774</td>\n",
       "      <td>DECORATIVE CATS BATHROOM BOTTLE</td>\n",
       "      <td>2</td>\n",
       "      <td>12/1/2010 14:32</td>\n",
       "      <td>2.51</td>\n",
       "      <td>NaN</td>\n",
       "      <td>United Kingdom</td>\n",
       "    </tr>\n",
       "    <tr>\n",
       "      <th>1445</th>\n",
       "      <td>536544</td>\n",
       "      <td>21786</td>\n",
       "      <td>POLKADOT RAIN HAT</td>\n",
       "      <td>4</td>\n",
       "      <td>12/1/2010 14:32</td>\n",
       "      <td>0.85</td>\n",
       "      <td>NaN</td>\n",
       "      <td>United Kingdom</td>\n",
       "    </tr>\n",
       "    <tr>\n",
       "      <th>1446</th>\n",
       "      <td>536544</td>\n",
       "      <td>21787</td>\n",
       "      <td>RAIN PONCHO RETROSPOT</td>\n",
       "      <td>2</td>\n",
       "      <td>12/1/2010 14:32</td>\n",
       "      <td>1.66</td>\n",
       "      <td>NaN</td>\n",
       "      <td>United Kingdom</td>\n",
       "    </tr>\n",
       "    <tr>\n",
       "      <th>...</th>\n",
       "      <td>...</td>\n",
       "      <td>...</td>\n",
       "      <td>...</td>\n",
       "      <td>...</td>\n",
       "      <td>...</td>\n",
       "      <td>...</td>\n",
       "      <td>...</td>\n",
       "      <td>...</td>\n",
       "    </tr>\n",
       "    <tr>\n",
       "      <th>541536</th>\n",
       "      <td>581498</td>\n",
       "      <td>85099B</td>\n",
       "      <td>JUMBO BAG RED RETROSPOT</td>\n",
       "      <td>5</td>\n",
       "      <td>12/9/2011 10:26</td>\n",
       "      <td>4.13</td>\n",
       "      <td>NaN</td>\n",
       "      <td>United Kingdom</td>\n",
       "    </tr>\n",
       "    <tr>\n",
       "      <th>541537</th>\n",
       "      <td>581498</td>\n",
       "      <td>85099C</td>\n",
       "      <td>JUMBO  BAG BAROQUE BLACK WHITE</td>\n",
       "      <td>4</td>\n",
       "      <td>12/9/2011 10:26</td>\n",
       "      <td>4.13</td>\n",
       "      <td>NaN</td>\n",
       "      <td>United Kingdom</td>\n",
       "    </tr>\n",
       "    <tr>\n",
       "      <th>541538</th>\n",
       "      <td>581498</td>\n",
       "      <td>85150</td>\n",
       "      <td>LADIES &amp; GENTLEMEN METAL SIGN</td>\n",
       "      <td>1</td>\n",
       "      <td>12/9/2011 10:26</td>\n",
       "      <td>4.96</td>\n",
       "      <td>NaN</td>\n",
       "      <td>United Kingdom</td>\n",
       "    </tr>\n",
       "    <tr>\n",
       "      <th>541539</th>\n",
       "      <td>581498</td>\n",
       "      <td>85174</td>\n",
       "      <td>S/4 CACTI CANDLES</td>\n",
       "      <td>1</td>\n",
       "      <td>12/9/2011 10:26</td>\n",
       "      <td>10.79</td>\n",
       "      <td>NaN</td>\n",
       "      <td>United Kingdom</td>\n",
       "    </tr>\n",
       "    <tr>\n",
       "      <th>541540</th>\n",
       "      <td>581498</td>\n",
       "      <td>DOT</td>\n",
       "      <td>DOTCOM POSTAGE</td>\n",
       "      <td>1</td>\n",
       "      <td>12/9/2011 10:26</td>\n",
       "      <td>1714.17</td>\n",
       "      <td>NaN</td>\n",
       "      <td>United Kingdom</td>\n",
       "    </tr>\n",
       "  </tbody>\n",
       "</table>\n",
       "<p>135080 rows × 8 columns</p>\n",
       "</div>"
      ],
      "text/plain": [
       "       InvoiceNo StockCode                      Description  Quantity  \\\n",
       "622       536414     22139                              NaN        56   \n",
       "1443      536544     21773  DECORATIVE ROSE BATHROOM BOTTLE         1   \n",
       "1444      536544     21774  DECORATIVE CATS BATHROOM BOTTLE         2   \n",
       "1445      536544     21786               POLKADOT RAIN HAT          4   \n",
       "1446      536544     21787            RAIN PONCHO RETROSPOT         2   \n",
       "...          ...       ...                              ...       ...   \n",
       "541536    581498    85099B          JUMBO BAG RED RETROSPOT         5   \n",
       "541537    581498    85099C   JUMBO  BAG BAROQUE BLACK WHITE         4   \n",
       "541538    581498     85150    LADIES & GENTLEMEN METAL SIGN         1   \n",
       "541539    581498     85174                S/4 CACTI CANDLES         1   \n",
       "541540    581498       DOT                   DOTCOM POSTAGE         1   \n",
       "\n",
       "            InvoiceDate  UnitPrice  CustomerID         Country  \n",
       "622     12/1/2010 11:52       0.00         NaN  United Kingdom  \n",
       "1443    12/1/2010 14:32       2.51         NaN  United Kingdom  \n",
       "1444    12/1/2010 14:32       2.51         NaN  United Kingdom  \n",
       "1445    12/1/2010 14:32       0.85         NaN  United Kingdom  \n",
       "1446    12/1/2010 14:32       1.66         NaN  United Kingdom  \n",
       "...                 ...        ...         ...             ...  \n",
       "541536  12/9/2011 10:26       4.13         NaN  United Kingdom  \n",
       "541537  12/9/2011 10:26       4.13         NaN  United Kingdom  \n",
       "541538  12/9/2011 10:26       4.96         NaN  United Kingdom  \n",
       "541539  12/9/2011 10:26      10.79         NaN  United Kingdom  \n",
       "541540  12/9/2011 10:26    1714.17         NaN  United Kingdom  \n",
       "\n",
       "[135080 rows x 8 columns]"
      ]
     },
     "execution_count": 23,
     "metadata": {},
     "output_type": "execute_result"
    }
   ],
   "source": [
    "original_data[original_data[\"CustomerID\"].isnull()]"
   ]
  },
  {
   "cell_type": "markdown",
   "id": "c8c4decf-2bef-4dcb-b4cd-eff8e1d7b4d2",
   "metadata": {},
   "source": [
    "CustomerID\t表示客户编号，不是分析畅销商品的必要变量，有些CustomerID 缺失的交易数据仍然有效，因此保留此变量为空的观察值。"
   ]
  },
  {
   "cell_type": "markdown",
   "id": "b5b32ad9-ef64-4234-82e7-d3e59b12b30a",
   "metadata": {},
   "source": [
    "#### 评估重复数据"
   ]
  },
  {
   "cell_type": "markdown",
   "id": "755b361b-b39d-479c-ac82-626ac41a23f9",
   "metadata": {},
   "source": [
    "对唯一标识符进行评估，即不能重复的数据。InvoiceNo\tStockCode\tCustomerID\t都是唯一标识符，但这里的情况可以出现重复值，所以无需数据评估。"
   ]
  },
  {
   "cell_type": "markdown",
   "id": "49b07a48-b218-4441-aa5c-54452a81d115",
   "metadata": {},
   "source": [
    "#### 评估不一致数据"
   ]
  },
  {
   "cell_type": "markdown",
   "id": "a136ca53-a903-4fd5-ba79-9c64a854c153",
   "metadata": {},
   "source": [
    "不一致数据可能存在于Country，我们需要查看是否存在多个不同值指代同一个国家的情况"
   ]
  },
  {
   "cell_type": "code",
   "execution_count": 26,
   "id": "fa6217b6-b08a-46d5-ba7d-efa188cc1319",
   "metadata": {},
   "outputs": [
    {
     "data": {
      "text/plain": [
       "Country\n",
       "United Kingdom          495266\n",
       "Germany                   9495\n",
       "France                    8557\n",
       "EIRE                      8196\n",
       "Spain                     2533\n",
       "Netherlands               2371\n",
       "Belgium                   2069\n",
       "Switzerland               2002\n",
       "Portugal                  1519\n",
       "Australia                 1259\n",
       "Norway                    1086\n",
       "Italy                      803\n",
       "Channel Islands            758\n",
       "Finland                    695\n",
       "Cyprus                     622\n",
       "Sweden                     462\n",
       "Unspecified                446\n",
       "Austria                    401\n",
       "Denmark                    389\n",
       "Japan                      358\n",
       "Poland                     341\n",
       "Israel                     297\n",
       "China                      288\n",
       "Singapore                  229\n",
       "USA                        218\n",
       "UK                         211\n",
       "Iceland                    182\n",
       "Canada                     151\n",
       "Greece                     146\n",
       "Malta                      127\n",
       "United States               73\n",
       "United Arab Emirates        68\n",
       "European Community          61\n",
       "RSA                         58\n",
       "Lebanon                     45\n",
       "Lithuania                   35\n",
       "Brazil                      32\n",
       "Czech Republic              30\n",
       "Bahrain                     19\n",
       "Saudi Arabia                10\n",
       "U.K.                         1\n",
       "Name: count, dtype: int64"
      ]
     },
     "execution_count": 26,
     "metadata": {},
     "output_type": "execute_result"
    }
   ],
   "source": [
    "original_data[\"Country\"].value_counts() #extract country的series，发现英国和美国有多个指代对象"
   ]
  },
  {
   "cell_type": "markdown",
   "id": "fd8dd69e-64d5-4ffa-bdb3-6f8713dce971",
   "metadata": {},
   "source": [
    "#### 评估无效或者错误数据"
   ]
  },
  {
   "cell_type": "code",
   "execution_count": 27,
   "id": "2af569ef-c0fd-401d-8ba3-62ed386f2ef6",
   "metadata": {},
   "outputs": [
    {
     "data": {
      "text/html": [
       "<div>\n",
       "<style scoped>\n",
       "    .dataframe tbody tr th:only-of-type {\n",
       "        vertical-align: middle;\n",
       "    }\n",
       "\n",
       "    .dataframe tbody tr th {\n",
       "        vertical-align: top;\n",
       "    }\n",
       "\n",
       "    .dataframe thead th {\n",
       "        text-align: right;\n",
       "    }\n",
       "</style>\n",
       "<table border=\"1\" class=\"dataframe\">\n",
       "  <thead>\n",
       "    <tr style=\"text-align: right;\">\n",
       "      <th></th>\n",
       "      <th>Quantity</th>\n",
       "      <th>UnitPrice</th>\n",
       "      <th>CustomerID</th>\n",
       "    </tr>\n",
       "  </thead>\n",
       "  <tbody>\n",
       "    <tr>\n",
       "      <th>count</th>\n",
       "      <td>541909.000000</td>\n",
       "      <td>541909.000000</td>\n",
       "      <td>406829.000000</td>\n",
       "    </tr>\n",
       "    <tr>\n",
       "      <th>mean</th>\n",
       "      <td>9.552250</td>\n",
       "      <td>4.611114</td>\n",
       "      <td>15287.690570</td>\n",
       "    </tr>\n",
       "    <tr>\n",
       "      <th>std</th>\n",
       "      <td>218.081158</td>\n",
       "      <td>96.759853</td>\n",
       "      <td>1713.600303</td>\n",
       "    </tr>\n",
       "    <tr>\n",
       "      <th>min</th>\n",
       "      <td>-80995.000000</td>\n",
       "      <td>-11062.060000</td>\n",
       "      <td>12346.000000</td>\n",
       "    </tr>\n",
       "    <tr>\n",
       "      <th>25%</th>\n",
       "      <td>1.000000</td>\n",
       "      <td>1.250000</td>\n",
       "      <td>13953.000000</td>\n",
       "    </tr>\n",
       "    <tr>\n",
       "      <th>50%</th>\n",
       "      <td>3.000000</td>\n",
       "      <td>2.080000</td>\n",
       "      <td>15152.000000</td>\n",
       "    </tr>\n",
       "    <tr>\n",
       "      <th>75%</th>\n",
       "      <td>10.000000</td>\n",
       "      <td>4.130000</td>\n",
       "      <td>16791.000000</td>\n",
       "    </tr>\n",
       "    <tr>\n",
       "      <th>max</th>\n",
       "      <td>80995.000000</td>\n",
       "      <td>38970.000000</td>\n",
       "      <td>18287.000000</td>\n",
       "    </tr>\n",
       "  </tbody>\n",
       "</table>\n",
       "</div>"
      ],
      "text/plain": [
       "            Quantity      UnitPrice     CustomerID\n",
       "count  541909.000000  541909.000000  406829.000000\n",
       "mean        9.552250       4.611114   15287.690570\n",
       "std       218.081158      96.759853    1713.600303\n",
       "min    -80995.000000  -11062.060000   12346.000000\n",
       "25%         1.000000       1.250000   13953.000000\n",
       "50%         3.000000       2.080000   15152.000000\n",
       "75%        10.000000       4.130000   16791.000000\n",
       "max     80995.000000   38970.000000   18287.000000"
      ]
     },
     "execution_count": 27,
     "metadata": {},
     "output_type": "execute_result"
    }
   ],
   "source": [
    "original_data.describe() #基础DataFrame的describe方法，对数值统计信息进行快速了解"
   ]
  },
  {
   "cell_type": "markdown",
   "id": "cf7d776d-002a-4332-b03d-3514651c9966",
   "metadata": {},
   "source": [
    "从输出结果来看，CustomerID不应该被计算，因为其代表编号，后续需要进行数据类型转换成string。     \n",
    "Quantit 和UnitPrice存在负值，会对后续数值分析产生影响，因此，我们需要先筛选出其为负数的观察值，进一步评估其含义。\t"
   ]
  },
  {
   "cell_type": "code",
   "execution_count": 29,
   "id": "0d486e00-e3d0-4796-a76a-4bb37404aa6f",
   "metadata": {},
   "outputs": [
    {
     "data": {
      "text/html": [
       "<div>\n",
       "<style scoped>\n",
       "    .dataframe tbody tr th:only-of-type {\n",
       "        vertical-align: middle;\n",
       "    }\n",
       "\n",
       "    .dataframe tbody tr th {\n",
       "        vertical-align: top;\n",
       "    }\n",
       "\n",
       "    .dataframe thead th {\n",
       "        text-align: right;\n",
       "    }\n",
       "</style>\n",
       "<table border=\"1\" class=\"dataframe\">\n",
       "  <thead>\n",
       "    <tr style=\"text-align: right;\">\n",
       "      <th></th>\n",
       "      <th>InvoiceNo</th>\n",
       "      <th>StockCode</th>\n",
       "      <th>Description</th>\n",
       "      <th>Quantity</th>\n",
       "      <th>InvoiceDate</th>\n",
       "      <th>UnitPrice</th>\n",
       "      <th>CustomerID</th>\n",
       "      <th>Country</th>\n",
       "    </tr>\n",
       "  </thead>\n",
       "  <tbody>\n",
       "    <tr>\n",
       "      <th>141</th>\n",
       "      <td>C536379</td>\n",
       "      <td>D</td>\n",
       "      <td>Discount</td>\n",
       "      <td>-1</td>\n",
       "      <td>12/1/2010 9:41</td>\n",
       "      <td>27.50</td>\n",
       "      <td>14527.0</td>\n",
       "      <td>United Kingdom</td>\n",
       "    </tr>\n",
       "    <tr>\n",
       "      <th>154</th>\n",
       "      <td>C536383</td>\n",
       "      <td>35004C</td>\n",
       "      <td>SET OF 3 COLOURED  FLYING DUCKS</td>\n",
       "      <td>-1</td>\n",
       "      <td>12/1/2010 9:49</td>\n",
       "      <td>4.65</td>\n",
       "      <td>15311.0</td>\n",
       "      <td>United Kingdom</td>\n",
       "    </tr>\n",
       "    <tr>\n",
       "      <th>235</th>\n",
       "      <td>C536391</td>\n",
       "      <td>22556</td>\n",
       "      <td>PLASTERS IN TIN CIRCUS PARADE</td>\n",
       "      <td>-12</td>\n",
       "      <td>12/1/2010 10:24</td>\n",
       "      <td>1.65</td>\n",
       "      <td>17548.0</td>\n",
       "      <td>United Kingdom</td>\n",
       "    </tr>\n",
       "    <tr>\n",
       "      <th>236</th>\n",
       "      <td>C536391</td>\n",
       "      <td>21984</td>\n",
       "      <td>PACK OF 12 PINK PAISLEY TISSUES</td>\n",
       "      <td>-24</td>\n",
       "      <td>12/1/2010 10:24</td>\n",
       "      <td>0.29</td>\n",
       "      <td>17548.0</td>\n",
       "      <td>United Kingdom</td>\n",
       "    </tr>\n",
       "    <tr>\n",
       "      <th>237</th>\n",
       "      <td>C536391</td>\n",
       "      <td>21983</td>\n",
       "      <td>PACK OF 12 BLUE PAISLEY TISSUES</td>\n",
       "      <td>-24</td>\n",
       "      <td>12/1/2010 10:24</td>\n",
       "      <td>0.29</td>\n",
       "      <td>17548.0</td>\n",
       "      <td>United Kingdom</td>\n",
       "    </tr>\n",
       "    <tr>\n",
       "      <th>...</th>\n",
       "      <td>...</td>\n",
       "      <td>...</td>\n",
       "      <td>...</td>\n",
       "      <td>...</td>\n",
       "      <td>...</td>\n",
       "      <td>...</td>\n",
       "      <td>...</td>\n",
       "      <td>...</td>\n",
       "    </tr>\n",
       "    <tr>\n",
       "      <th>540449</th>\n",
       "      <td>C581490</td>\n",
       "      <td>23144</td>\n",
       "      <td>ZINC T-LIGHT HOLDER STARS SMALL</td>\n",
       "      <td>-11</td>\n",
       "      <td>12/9/2011 9:57</td>\n",
       "      <td>0.83</td>\n",
       "      <td>14397.0</td>\n",
       "      <td>United Kingdom</td>\n",
       "    </tr>\n",
       "    <tr>\n",
       "      <th>541541</th>\n",
       "      <td>C581499</td>\n",
       "      <td>M</td>\n",
       "      <td>Manual</td>\n",
       "      <td>-1</td>\n",
       "      <td>12/9/2011 10:28</td>\n",
       "      <td>224.69</td>\n",
       "      <td>15498.0</td>\n",
       "      <td>United Kingdom</td>\n",
       "    </tr>\n",
       "    <tr>\n",
       "      <th>541715</th>\n",
       "      <td>C581568</td>\n",
       "      <td>21258</td>\n",
       "      <td>VICTORIAN SEWING BOX LARGE</td>\n",
       "      <td>-5</td>\n",
       "      <td>12/9/2011 11:57</td>\n",
       "      <td>10.95</td>\n",
       "      <td>15311.0</td>\n",
       "      <td>United Kingdom</td>\n",
       "    </tr>\n",
       "    <tr>\n",
       "      <th>541716</th>\n",
       "      <td>C581569</td>\n",
       "      <td>84978</td>\n",
       "      <td>HANGING HEART JAR T-LIGHT HOLDER</td>\n",
       "      <td>-1</td>\n",
       "      <td>12/9/2011 11:58</td>\n",
       "      <td>1.25</td>\n",
       "      <td>17315.0</td>\n",
       "      <td>United Kingdom</td>\n",
       "    </tr>\n",
       "    <tr>\n",
       "      <th>541717</th>\n",
       "      <td>C581569</td>\n",
       "      <td>20979</td>\n",
       "      <td>36 PENCILS TUBE RED RETROSPOT</td>\n",
       "      <td>-5</td>\n",
       "      <td>12/9/2011 11:58</td>\n",
       "      <td>1.25</td>\n",
       "      <td>17315.0</td>\n",
       "      <td>United Kingdom</td>\n",
       "    </tr>\n",
       "  </tbody>\n",
       "</table>\n",
       "<p>10624 rows × 8 columns</p>\n",
       "</div>"
      ],
      "text/plain": [
       "       InvoiceNo StockCode                       Description  Quantity  \\\n",
       "141      C536379         D                          Discount        -1   \n",
       "154      C536383    35004C   SET OF 3 COLOURED  FLYING DUCKS        -1   \n",
       "235      C536391     22556    PLASTERS IN TIN CIRCUS PARADE        -12   \n",
       "236      C536391     21984  PACK OF 12 PINK PAISLEY TISSUES        -24   \n",
       "237      C536391     21983  PACK OF 12 BLUE PAISLEY TISSUES        -24   \n",
       "...          ...       ...                               ...       ...   \n",
       "540449   C581490     23144   ZINC T-LIGHT HOLDER STARS SMALL       -11   \n",
       "541541   C581499         M                            Manual        -1   \n",
       "541715   C581568     21258        VICTORIAN SEWING BOX LARGE        -5   \n",
       "541716   C581569     84978  HANGING HEART JAR T-LIGHT HOLDER        -1   \n",
       "541717   C581569     20979     36 PENCILS TUBE RED RETROSPOT        -5   \n",
       "\n",
       "            InvoiceDate  UnitPrice  CustomerID         Country  \n",
       "141      12/1/2010 9:41      27.50     14527.0  United Kingdom  \n",
       "154      12/1/2010 9:49       4.65     15311.0  United Kingdom  \n",
       "235     12/1/2010 10:24       1.65     17548.0  United Kingdom  \n",
       "236     12/1/2010 10:24       0.29     17548.0  United Kingdom  \n",
       "237     12/1/2010 10:24       0.29     17548.0  United Kingdom  \n",
       "...                 ...        ...         ...             ...  \n",
       "540449   12/9/2011 9:57       0.83     14397.0  United Kingdom  \n",
       "541541  12/9/2011 10:28     224.69     15498.0  United Kingdom  \n",
       "541715  12/9/2011 11:57      10.95     15311.0  United Kingdom  \n",
       "541716  12/9/2011 11:58       1.25     17315.0  United Kingdom  \n",
       "541717  12/9/2011 11:58       1.25     17315.0  United Kingdom  \n",
       "\n",
       "[10624 rows x 8 columns]"
      ]
     },
     "execution_count": 29,
     "metadata": {},
     "output_type": "execute_result"
    }
   ],
   "source": [
    "original_data[original_data[\"Quantity\"] < 0]"
   ]
  },
  {
   "cell_type": "markdown",
   "id": "a8456927-f8be-4b43-bfc4-0475824c7e71",
   "metadata": {},
   "source": [
    "Quantity 为负数的发票开头都是C  （这里有个背景信息是，c开头发票为被取消的订单）"
   ]
  },
  {
   "cell_type": "code",
   "execution_count": 33,
   "id": "3b40d625-e1f7-4399-b1d6-dce4abbebdd2",
   "metadata": {},
   "outputs": [
    {
     "data": {
      "text/html": [
       "<div>\n",
       "<style scoped>\n",
       "    .dataframe tbody tr th:only-of-type {\n",
       "        vertical-align: middle;\n",
       "    }\n",
       "\n",
       "    .dataframe tbody tr th {\n",
       "        vertical-align: top;\n",
       "    }\n",
       "\n",
       "    .dataframe thead th {\n",
       "        text-align: right;\n",
       "    }\n",
       "</style>\n",
       "<table border=\"1\" class=\"dataframe\">\n",
       "  <thead>\n",
       "    <tr style=\"text-align: right;\">\n",
       "      <th></th>\n",
       "      <th>InvoiceNo</th>\n",
       "      <th>StockCode</th>\n",
       "      <th>Description</th>\n",
       "      <th>Quantity</th>\n",
       "      <th>InvoiceDate</th>\n",
       "      <th>UnitPrice</th>\n",
       "      <th>CustomerID</th>\n",
       "      <th>Country</th>\n",
       "    </tr>\n",
       "  </thead>\n",
       "  <tbody>\n",
       "    <tr>\n",
       "      <th>2406</th>\n",
       "      <td>536589</td>\n",
       "      <td>21777</td>\n",
       "      <td>NaN</td>\n",
       "      <td>-10</td>\n",
       "      <td>12/1/2010 16:50</td>\n",
       "      <td>0.0</td>\n",
       "      <td>NaN</td>\n",
       "      <td>United Kingdom</td>\n",
       "    </tr>\n",
       "    <tr>\n",
       "      <th>4347</th>\n",
       "      <td>536764</td>\n",
       "      <td>84952C</td>\n",
       "      <td>NaN</td>\n",
       "      <td>-38</td>\n",
       "      <td>12/2/2010 14:42</td>\n",
       "      <td>0.0</td>\n",
       "      <td>NaN</td>\n",
       "      <td>United Kingdom</td>\n",
       "    </tr>\n",
       "    <tr>\n",
       "      <th>7188</th>\n",
       "      <td>536996</td>\n",
       "      <td>22712</td>\n",
       "      <td>NaN</td>\n",
       "      <td>-20</td>\n",
       "      <td>12/3/2010 15:30</td>\n",
       "      <td>0.0</td>\n",
       "      <td>NaN</td>\n",
       "      <td>United Kingdom</td>\n",
       "    </tr>\n",
       "    <tr>\n",
       "      <th>7189</th>\n",
       "      <td>536997</td>\n",
       "      <td>22028</td>\n",
       "      <td>NaN</td>\n",
       "      <td>-20</td>\n",
       "      <td>12/3/2010 15:30</td>\n",
       "      <td>0.0</td>\n",
       "      <td>NaN</td>\n",
       "      <td>United Kingdom</td>\n",
       "    </tr>\n",
       "    <tr>\n",
       "      <th>7190</th>\n",
       "      <td>536998</td>\n",
       "      <td>85067</td>\n",
       "      <td>NaN</td>\n",
       "      <td>-6</td>\n",
       "      <td>12/3/2010 15:30</td>\n",
       "      <td>0.0</td>\n",
       "      <td>NaN</td>\n",
       "      <td>United Kingdom</td>\n",
       "    </tr>\n",
       "    <tr>\n",
       "      <th>...</th>\n",
       "      <td>...</td>\n",
       "      <td>...</td>\n",
       "      <td>...</td>\n",
       "      <td>...</td>\n",
       "      <td>...</td>\n",
       "      <td>...</td>\n",
       "      <td>...</td>\n",
       "      <td>...</td>\n",
       "    </tr>\n",
       "    <tr>\n",
       "      <th>535333</th>\n",
       "      <td>581210</td>\n",
       "      <td>23395</td>\n",
       "      <td>check</td>\n",
       "      <td>-26</td>\n",
       "      <td>12/7/2011 18:36</td>\n",
       "      <td>0.0</td>\n",
       "      <td>NaN</td>\n",
       "      <td>United Kingdom</td>\n",
       "    </tr>\n",
       "    <tr>\n",
       "      <th>535335</th>\n",
       "      <td>581212</td>\n",
       "      <td>22578</td>\n",
       "      <td>lost</td>\n",
       "      <td>-1050</td>\n",
       "      <td>12/7/2011 18:38</td>\n",
       "      <td>0.0</td>\n",
       "      <td>NaN</td>\n",
       "      <td>United Kingdom</td>\n",
       "    </tr>\n",
       "    <tr>\n",
       "      <th>535336</th>\n",
       "      <td>581213</td>\n",
       "      <td>22576</td>\n",
       "      <td>check</td>\n",
       "      <td>-30</td>\n",
       "      <td>12/7/2011 18:38</td>\n",
       "      <td>0.0</td>\n",
       "      <td>NaN</td>\n",
       "      <td>United Kingdom</td>\n",
       "    </tr>\n",
       "    <tr>\n",
       "      <th>536908</th>\n",
       "      <td>581226</td>\n",
       "      <td>23090</td>\n",
       "      <td>missing</td>\n",
       "      <td>-338</td>\n",
       "      <td>12/8/2011 9:56</td>\n",
       "      <td>0.0</td>\n",
       "      <td>NaN</td>\n",
       "      <td>United Kingdom</td>\n",
       "    </tr>\n",
       "    <tr>\n",
       "      <th>538919</th>\n",
       "      <td>581422</td>\n",
       "      <td>23169</td>\n",
       "      <td>smashed</td>\n",
       "      <td>-235</td>\n",
       "      <td>12/8/2011 15:24</td>\n",
       "      <td>0.0</td>\n",
       "      <td>NaN</td>\n",
       "      <td>United Kingdom</td>\n",
       "    </tr>\n",
       "  </tbody>\n",
       "</table>\n",
       "<p>1336 rows × 8 columns</p>\n",
       "</div>"
      ],
      "text/plain": [
       "       InvoiceNo StockCode Description  Quantity      InvoiceDate  UnitPrice  \\\n",
       "2406      536589     21777         NaN       -10  12/1/2010 16:50        0.0   \n",
       "4347      536764    84952C         NaN       -38  12/2/2010 14:42        0.0   \n",
       "7188      536996     22712         NaN       -20  12/3/2010 15:30        0.0   \n",
       "7189      536997     22028         NaN       -20  12/3/2010 15:30        0.0   \n",
       "7190      536998     85067         NaN        -6  12/3/2010 15:30        0.0   \n",
       "...          ...       ...         ...       ...              ...        ...   \n",
       "535333    581210     23395       check       -26  12/7/2011 18:36        0.0   \n",
       "535335    581212     22578        lost     -1050  12/7/2011 18:38        0.0   \n",
       "535336    581213     22576       check       -30  12/7/2011 18:38        0.0   \n",
       "536908    581226     23090     missing      -338   12/8/2011 9:56        0.0   \n",
       "538919    581422     23169     smashed      -235  12/8/2011 15:24        0.0   \n",
       "\n",
       "        CustomerID         Country  \n",
       "2406           NaN  United Kingdom  \n",
       "4347           NaN  United Kingdom  \n",
       "7188           NaN  United Kingdom  \n",
       "7189           NaN  United Kingdom  \n",
       "7190           NaN  United Kingdom  \n",
       "...            ...             ...  \n",
       "535333         NaN  United Kingdom  \n",
       "535335         NaN  United Kingdom  \n",
       "535336         NaN  United Kingdom  \n",
       "536908         NaN  United Kingdom  \n",
       "538919         NaN  United Kingdom  \n",
       "\n",
       "[1336 rows x 8 columns]"
      ]
     },
     "execution_count": 33,
     "metadata": {},
     "output_type": "execute_result"
    }
   ],
   "source": [
    "original_data[(original_data[\"Quantity\"] < 0) & (original_data[\"InvoiceNo\"].str[0] != \"C\")]"
   ]
  },
  {
   "cell_type": "markdown",
   "id": "5a7c6743-e9bb-41b1-bab9-08c50d18e3ca",
   "metadata": {},
   "source": [
    "这里结果得出，存在qua为负值而发票不以c开头的编号，并且单价都为0"
   ]
  },
  {
   "cell_type": "code",
   "execution_count": 34,
   "id": "82170a23-5058-4719-8540-0a05ee49c926",
   "metadata": {},
   "outputs": [
    {
     "data": {
      "text/html": [
       "<div>\n",
       "<style scoped>\n",
       "    .dataframe tbody tr th:only-of-type {\n",
       "        vertical-align: middle;\n",
       "    }\n",
       "\n",
       "    .dataframe tbody tr th {\n",
       "        vertical-align: top;\n",
       "    }\n",
       "\n",
       "    .dataframe thead th {\n",
       "        text-align: right;\n",
       "    }\n",
       "</style>\n",
       "<table border=\"1\" class=\"dataframe\">\n",
       "  <thead>\n",
       "    <tr style=\"text-align: right;\">\n",
       "      <th></th>\n",
       "      <th>InvoiceNo</th>\n",
       "      <th>StockCode</th>\n",
       "      <th>Description</th>\n",
       "      <th>Quantity</th>\n",
       "      <th>InvoiceDate</th>\n",
       "      <th>UnitPrice</th>\n",
       "      <th>CustomerID</th>\n",
       "      <th>Country</th>\n",
       "    </tr>\n",
       "  </thead>\n",
       "  <tbody>\n",
       "  </tbody>\n",
       "</table>\n",
       "</div>"
      ],
      "text/plain": [
       "Empty DataFrame\n",
       "Columns: [InvoiceNo, StockCode, Description, Quantity, InvoiceDate, UnitPrice, CustomerID, Country]\n",
       "Index: []"
      ]
     },
     "execution_count": 34,
     "metadata": {},
     "output_type": "execute_result"
    }
   ],
   "source": [
    "original_data[(original_data[\"Quantity\"] < 0) & (original_data[\"InvoiceNo\"].str[0] != \"C\") & (original_data[\"UnitPrice\"] != 0)]"
   ]
  },
  {
   "cell_type": "markdown",
   "id": "551fe74d-f596-48de-b637-8d6e70a951df",
   "metadata": {},
   "source": [
    "说明，quan为负值要么发票开头为C 要么商品单价为0，这些数据都不是有效成交数据，不贡献销售，而且会影响我的数据分析， 我们的分析目的是找出畅销商品，后续可以删除"
   ]
  },
  {
   "cell_type": "markdown",
   "id": "eac18452-83de-4e4b-96a1-77969aeb9555",
   "metadata": {},
   "source": [
    "UnitPrice也有是负数的"
   ]
  },
  {
   "cell_type": "code",
   "execution_count": 36,
   "id": "b017802f-6b6e-4864-98ad-47abfcbb38a0",
   "metadata": {},
   "outputs": [
    {
     "data": {
      "text/html": [
       "<div>\n",
       "<style scoped>\n",
       "    .dataframe tbody tr th:only-of-type {\n",
       "        vertical-align: middle;\n",
       "    }\n",
       "\n",
       "    .dataframe tbody tr th {\n",
       "        vertical-align: top;\n",
       "    }\n",
       "\n",
       "    .dataframe thead th {\n",
       "        text-align: right;\n",
       "    }\n",
       "</style>\n",
       "<table border=\"1\" class=\"dataframe\">\n",
       "  <thead>\n",
       "    <tr style=\"text-align: right;\">\n",
       "      <th></th>\n",
       "      <th>InvoiceNo</th>\n",
       "      <th>StockCode</th>\n",
       "      <th>Description</th>\n",
       "      <th>Quantity</th>\n",
       "      <th>InvoiceDate</th>\n",
       "      <th>UnitPrice</th>\n",
       "      <th>CustomerID</th>\n",
       "      <th>Country</th>\n",
       "    </tr>\n",
       "  </thead>\n",
       "  <tbody>\n",
       "    <tr>\n",
       "      <th>299983</th>\n",
       "      <td>A563186</td>\n",
       "      <td>B</td>\n",
       "      <td>Adjust bad debt</td>\n",
       "      <td>1</td>\n",
       "      <td>8/12/2011 14:51</td>\n",
       "      <td>-11062.06</td>\n",
       "      <td>NaN</td>\n",
       "      <td>United Kingdom</td>\n",
       "    </tr>\n",
       "    <tr>\n",
       "      <th>299984</th>\n",
       "      <td>A563187</td>\n",
       "      <td>B</td>\n",
       "      <td>Adjust bad debt</td>\n",
       "      <td>1</td>\n",
       "      <td>8/12/2011 14:52</td>\n",
       "      <td>-11062.06</td>\n",
       "      <td>NaN</td>\n",
       "      <td>United Kingdom</td>\n",
       "    </tr>\n",
       "  </tbody>\n",
       "</table>\n",
       "</div>"
      ],
      "text/plain": [
       "       InvoiceNo StockCode      Description  Quantity      InvoiceDate  \\\n",
       "299983   A563186         B  Adjust bad debt         1  8/12/2011 14:51   \n",
       "299984   A563187         B  Adjust bad debt         1  8/12/2011 14:52   \n",
       "\n",
       "        UnitPrice  CustomerID         Country  \n",
       "299983  -11062.06         NaN  United Kingdom  \n",
       "299984  -11062.06         NaN  United Kingdom  "
      ]
     },
     "execution_count": 36,
     "metadata": {},
     "output_type": "execute_result"
    }
   ],
   "source": [
    "original_data[original_data[\"UnitPrice\"] < 0]"
   ]
  },
  {
   "cell_type": "markdown",
   "id": "3384c3a2-17b8-41e6-a54e-f7a870bf0a86",
   "metadata": {},
   "source": [
    "UnitPrice为负数的都是Adjust bad debt坏账，不属于实际商品数据，后续删除。"
   ]
  },
  {
   "cell_type": "markdown",
   "id": "c5fdf3e1-c243-4bfd-92cc-a403d33dc410",
   "metadata": {},
   "source": [
    "## 清洗数据"
   ]
  },
  {
   "cell_type": "markdown",
   "id": "14679b3a-d207-492d-a61a-59ffcffedc45",
   "metadata": {},
   "source": [
    "基础评估后待办的分析任务有：\n",
    "1 把\n",
    "2\n",
    "3\n",
    "..."
   ]
  },
  {
   "cell_type": "code",
   "execution_count": 38,
   "id": "cba5b5b5-3c5d-45d8-8029-9b337d0cdad7",
   "metadata": {},
   "outputs": [
    {
     "data": {
      "text/html": [
       "<div>\n",
       "<style scoped>\n",
       "    .dataframe tbody tr th:only-of-type {\n",
       "        vertical-align: middle;\n",
       "    }\n",
       "\n",
       "    .dataframe tbody tr th {\n",
       "        vertical-align: top;\n",
       "    }\n",
       "\n",
       "    .dataframe thead th {\n",
       "        text-align: right;\n",
       "    }\n",
       "</style>\n",
       "<table border=\"1\" class=\"dataframe\">\n",
       "  <thead>\n",
       "    <tr style=\"text-align: right;\">\n",
       "      <th></th>\n",
       "      <th>InvoiceNo</th>\n",
       "      <th>StockCode</th>\n",
       "      <th>Description</th>\n",
       "      <th>Quantity</th>\n",
       "      <th>InvoiceDate</th>\n",
       "      <th>UnitPrice</th>\n",
       "      <th>CustomerID</th>\n",
       "      <th>Country</th>\n",
       "    </tr>\n",
       "  </thead>\n",
       "  <tbody>\n",
       "    <tr>\n",
       "      <th>0</th>\n",
       "      <td>536365</td>\n",
       "      <td>85123A</td>\n",
       "      <td>WHITE HANGING HEART T-LIGHT HOLDER</td>\n",
       "      <td>6</td>\n",
       "      <td>12/1/2010 8:26</td>\n",
       "      <td>2.55</td>\n",
       "      <td>17850.0</td>\n",
       "      <td>United Kingdom</td>\n",
       "    </tr>\n",
       "    <tr>\n",
       "      <th>1</th>\n",
       "      <td>536365</td>\n",
       "      <td>71053</td>\n",
       "      <td>WHITE METAL LANTERN</td>\n",
       "      <td>6</td>\n",
       "      <td>12/1/2010 8:26</td>\n",
       "      <td>3.39</td>\n",
       "      <td>17850.0</td>\n",
       "      <td>United Kingdom</td>\n",
       "    </tr>\n",
       "    <tr>\n",
       "      <th>2</th>\n",
       "      <td>536365</td>\n",
       "      <td>84406B</td>\n",
       "      <td>CREAM CUPID HEARTS COAT HANGER</td>\n",
       "      <td>8</td>\n",
       "      <td>12/1/2010 8:26</td>\n",
       "      <td>2.75</td>\n",
       "      <td>17850.0</td>\n",
       "      <td>United Kingdom</td>\n",
       "    </tr>\n",
       "    <tr>\n",
       "      <th>3</th>\n",
       "      <td>536365</td>\n",
       "      <td>84029G</td>\n",
       "      <td>KNITTED UNION FLAG HOT WATER BOTTLE</td>\n",
       "      <td>6</td>\n",
       "      <td>12/1/2010 8:26</td>\n",
       "      <td>3.39</td>\n",
       "      <td>17850.0</td>\n",
       "      <td>United Kingdom</td>\n",
       "    </tr>\n",
       "    <tr>\n",
       "      <th>4</th>\n",
       "      <td>536365</td>\n",
       "      <td>84029E</td>\n",
       "      <td>RED WOOLLY HOTTIE WHITE HEART.</td>\n",
       "      <td>6</td>\n",
       "      <td>12/1/2010 8:26</td>\n",
       "      <td>3.39</td>\n",
       "      <td>17850.0</td>\n",
       "      <td>United Kingdom</td>\n",
       "    </tr>\n",
       "  </tbody>\n",
       "</table>\n",
       "</div>"
      ],
      "text/plain": [
       "  InvoiceNo StockCode                          Description  Quantity  \\\n",
       "0    536365    85123A   WHITE HANGING HEART T-LIGHT HOLDER         6   \n",
       "1    536365     71053                  WHITE METAL LANTERN         6   \n",
       "2    536365    84406B       CREAM CUPID HEARTS COAT HANGER         8   \n",
       "3    536365    84029G  KNITTED UNION FLAG HOT WATER BOTTLE         6   \n",
       "4    536365    84029E       RED WOOLLY HOTTIE WHITE HEART.         6   \n",
       "\n",
       "      InvoiceDate  UnitPrice  CustomerID         Country  \n",
       "0  12/1/2010 8:26       2.55     17850.0  United Kingdom  \n",
       "1  12/1/2010 8:26       3.39     17850.0  United Kingdom  \n",
       "2  12/1/2010 8:26       2.75     17850.0  United Kingdom  \n",
       "3  12/1/2010 8:26       3.39     17850.0  United Kingdom  \n",
       "4  12/1/2010 8:26       3.39     17850.0  United Kingdom  "
      ]
     },
     "execution_count": 38,
     "metadata": {},
     "output_type": "execute_result"
    }
   ],
   "source": [
    "cleaned_data = original_data.copy() # 将原始数据备份 一份给要清洗的数据， 存在两份数据\n",
    "cleaned_data.head()"
   ]
  },
  {
   "cell_type": "code",
   "execution_count": 40,
   "id": "78b7fa23-b2ee-4ea6-93cd-e2aecad8bcb0",
   "metadata": {},
   "outputs": [
    {
     "data": {
      "text/plain": [
       "0        2010-12-01 08:26:00\n",
       "1        2010-12-01 08:26:00\n",
       "2        2010-12-01 08:26:00\n",
       "3        2010-12-01 08:26:00\n",
       "4        2010-12-01 08:26:00\n",
       "                 ...        \n",
       "541904   2011-12-09 12:50:00\n",
       "541905   2011-12-09 12:50:00\n",
       "541906   2011-12-09 12:50:00\n",
       "541907   2011-12-09 12:50:00\n",
       "541908   2011-12-09 12:50:00\n",
       "Name: InvoiceDate, Length: 541909, dtype: datetime64[ns]"
      ]
     },
     "execution_count": 40,
     "metadata": {},
     "output_type": "execute_result"
    }
   ],
   "source": [
    "cleaned_data[\"InvoiceDate\"] = pd.to_datetime(cleaned_data[\"InvoiceDate\"]) #将InvoiceDate数据类型into为 datetime数据类型(不常见数据类型) by pandas库里的to_datetime函数\n",
    "cleaned_data[\"InvoiceDate\"] "
   ]
  },
  {
   "cell_type": "code",
   "execution_count": 41,
   "id": "0b8d459a-56bb-4c98-88b3-2fb8b5cee220",
   "metadata": {},
   "outputs": [
    {
     "data": {
      "text/plain": [
       "0         17850.0\n",
       "1         17850.0\n",
       "2         17850.0\n",
       "3         17850.0\n",
       "4         17850.0\n",
       "           ...   \n",
       "541904    12680.0\n",
       "541905    12680.0\n",
       "541906    12680.0\n",
       "541907    12680.0\n",
       "541908    12680.0\n",
       "Name: CustomerID, Length: 541909, dtype: object"
      ]
     },
     "execution_count": 41,
     "metadata": {},
     "output_type": "execute_result"
    }
   ],
   "source": [
    "cleaned_data[\"CustomerID\"] = cleaned_data[\"CustomerID\"].astype(str) #CustomerID转换成string类型\t\n",
    "cleaned_data[\"CustomerID\"]"
   ]
  },
  {
   "cell_type": "code",
   "execution_count": 43,
   "id": "c34ee91f-2687-4a73-839e-a0755c544967",
   "metadata": {},
   "outputs": [
    {
     "data": {
      "text/plain": [
       "0         17850\n",
       "1         17850\n",
       "2         17850\n",
       "3         17850\n",
       "4         17850\n",
       "          ...  \n",
       "541904    12680\n",
       "541905    12680\n",
       "541906    12680\n",
       "541907    12680\n",
       "541908    12680\n",
       "Name: CustomerID, Length: 541909, dtype: object"
      ]
     },
     "execution_count": 43,
     "metadata": {},
     "output_type": "execute_result"
    }
   ],
   "source": [
    "cleaned_data[\"CustomerID\"] = cleaned_data[\"CustomerID\"].str.slice(0,-2) # 删除其值后面的.0, 加.str表示可以调用能操作字符串的函数。（series）\n",
    "cleaned_data[\"CustomerID\"]"
   ]
  },
  {
   "cell_type": "code",
   "execution_count": 45,
   "id": "78bed012-efef-465d-a89f-b7e28a671892",
   "metadata": {},
   "outputs": [],
   "source": [
    "cleaned_data.dropna(subset = [\"Description\"], inplace=True) # 对dataframe进行空值删除，删除哪里？就是Description变量缺失的观察值; inplace=True原地改变可以不用进行赋值"
   ]
  },
  {
   "cell_type": "code",
   "execution_count": 46,
   "id": "13a8ceed-2f29-4d0b-a430-118998895d01",
   "metadata": {},
   "outputs": [
    {
     "data": {
      "text/plain": [
       "np.int64(0)"
      ]
     },
     "execution_count": 46,
     "metadata": {},
     "output_type": "execute_result"
    }
   ],
   "source": [
    "cleaned_data[\"Description\"].isnull().sum() # 对Des的series进行bool运算获得ture和false，求总和就是ture的数量（false=0， ture=1）"
   ]
  },
  {
   "cell_type": "markdown",
   "id": "69c75767-4681-4114-956f-e72b2fce15ff",
   "metadata": {},
   "source": [
    "这里求和为0，则空值已被删除完毕。"
   ]
  },
  {
   "cell_type": "code",
   "execution_count": 48,
   "id": "75b338b3-2268-4a57-9e71-6b93d5518973",
   "metadata": {},
   "outputs": [],
   "source": [
    "cleaned_data[\"Country\"] = cleaned_data[\"Country\"].replace({\"USA\":\"United States\"}) # 替换usa为united states 用series自带的replace函数"
   ]
  },
  {
   "cell_type": "code",
   "execution_count": 49,
   "id": "17db731a-e9da-445c-9505-092e68df4b68",
   "metadata": {},
   "outputs": [
    {
     "data": {
      "text/plain": [
       "0"
      ]
     },
     "execution_count": 49,
     "metadata": {},
     "output_type": "execute_result"
    }
   ],
   "source": [
    "len(cleaned_data[cleaned_data[\"Country\"] == \"USA\"]) #通过长度的方法 查看USA是否被替换完成，如果是0即替换完成。 (==为是否相等的boolean expression，只会返回ture/false)"
   ]
  },
  {
   "cell_type": "code",
   "execution_count": 50,
   "id": "a9ee60e2-0636-40bf-9ed6-8440d035c784",
   "metadata": {},
   "outputs": [],
   "source": [
    "cleaned_data[\"Country\"] = cleaned_data[\"Country\"].replace({\"UK\":\"United Kingdom\" , \"U.K.\":\"United Kingdom\"})"
   ]
  },
  {
   "cell_type": "code",
   "execution_count": 54,
   "id": "e019116d-6264-4a5f-99da-254b8a6caafb",
   "metadata": {},
   "outputs": [
    {
     "data": {
      "text/plain": [
       "0"
      ]
     },
     "execution_count": 54,
     "metadata": {},
     "output_type": "execute_result"
    }
   ],
   "source": [
    "len(cleaned_data [cleaned_data[\"Country\"] == \"UK\"])"
   ]
  },
  {
   "cell_type": "code",
   "execution_count": 55,
   "id": "ce330c49-03df-403e-9541-39bfcdb76e0e",
   "metadata": {},
   "outputs": [
    {
     "data": {
      "text/plain": [
       "0"
      ]
     },
     "execution_count": 55,
     "metadata": {},
     "output_type": "execute_result"
    }
   ],
   "source": [
    "len(cleaned_data[cleaned_data[\"Country\"] == \"U.K.\"])"
   ]
  },
  {
   "cell_type": "code",
   "execution_count": 59,
   "id": "a022db23-8044-4d3a-919a-66bcc2470a4b",
   "metadata": {},
   "outputs": [],
   "source": [
    "cleaned_data = cleaned_data[cleaned_data[\"Quantity\"] >= 0] # 把quantity里的负值删除，但是没有一种根据条件删除数值的方法，所以提取 符合条件的数值 再重新赋值。"
   ]
  },
  {
   "cell_type": "code",
   "execution_count": 60,
   "id": "03276aa1-98ba-4538-b03e-12aa202e6f30",
   "metadata": {},
   "outputs": [
    {
     "data": {
      "text/plain": [
       "0"
      ]
     },
     "execution_count": 60,
     "metadata": {},
     "output_type": "execute_result"
    }
   ],
   "source": [
    "len(cleaned_data[cleaned_data[\"Quantity\"] < 0])"
   ]
  },
  {
   "cell_type": "code",
   "execution_count": 62,
   "id": "f7f7c5ba-267b-4adc-bff7-4f04d4d27520",
   "metadata": {},
   "outputs": [],
   "source": [
    "cleaned_data = cleaned_data[cleaned_data[\"UnitPrice\"] >= 0]"
   ]
  },
  {
   "cell_type": "code",
   "execution_count": 63,
   "id": "0e0be1f8-d179-41c0-8635-57639b6bdf82",
   "metadata": {},
   "outputs": [
    {
     "data": {
      "text/plain": [
       "0"
      ]
     },
     "execution_count": 63,
     "metadata": {},
     "output_type": "execute_result"
    }
   ],
   "source": [
    "len(cleaned_data[cleaned_data[\"UnitPrice\"] < 0])"
   ]
  },
  {
   "cell_type": "markdown",
   "id": "b210f4d6-2670-4eac-9c3c-6b21c923c3e1",
   "metadata": {},
   "source": [
    "## 保存清洗后的数据"
   ]
  },
  {
   "cell_type": "code",
   "execution_count": 64,
   "id": "4648ab7f-2810-444e-ac16-d2ea942fed2a",
   "metadata": {},
   "outputs": [
    {
     "data": {
      "text/html": [
       "<div>\n",
       "<style scoped>\n",
       "    .dataframe tbody tr th:only-of-type {\n",
       "        vertical-align: middle;\n",
       "    }\n",
       "\n",
       "    .dataframe tbody tr th {\n",
       "        vertical-align: top;\n",
       "    }\n",
       "\n",
       "    .dataframe thead th {\n",
       "        text-align: right;\n",
       "    }\n",
       "</style>\n",
       "<table border=\"1\" class=\"dataframe\">\n",
       "  <thead>\n",
       "    <tr style=\"text-align: right;\">\n",
       "      <th></th>\n",
       "      <th>InvoiceNo</th>\n",
       "      <th>StockCode</th>\n",
       "      <th>Description</th>\n",
       "      <th>Quantity</th>\n",
       "      <th>InvoiceDate</th>\n",
       "      <th>UnitPrice</th>\n",
       "      <th>CustomerID</th>\n",
       "      <th>Country</th>\n",
       "    </tr>\n",
       "  </thead>\n",
       "  <tbody>\n",
       "    <tr>\n",
       "      <th>0</th>\n",
       "      <td>536365</td>\n",
       "      <td>85123A</td>\n",
       "      <td>WHITE HANGING HEART T-LIGHT HOLDER</td>\n",
       "      <td>6</td>\n",
       "      <td>2010-12-01 08:26:00</td>\n",
       "      <td>2.55</td>\n",
       "      <td>17850</td>\n",
       "      <td>United Kingdom</td>\n",
       "    </tr>\n",
       "    <tr>\n",
       "      <th>1</th>\n",
       "      <td>536365</td>\n",
       "      <td>71053</td>\n",
       "      <td>WHITE METAL LANTERN</td>\n",
       "      <td>6</td>\n",
       "      <td>2010-12-01 08:26:00</td>\n",
       "      <td>3.39</td>\n",
       "      <td>17850</td>\n",
       "      <td>United Kingdom</td>\n",
       "    </tr>\n",
       "    <tr>\n",
       "      <th>2</th>\n",
       "      <td>536365</td>\n",
       "      <td>84406B</td>\n",
       "      <td>CREAM CUPID HEARTS COAT HANGER</td>\n",
       "      <td>8</td>\n",
       "      <td>2010-12-01 08:26:00</td>\n",
       "      <td>2.75</td>\n",
       "      <td>17850</td>\n",
       "      <td>United Kingdom</td>\n",
       "    </tr>\n",
       "    <tr>\n",
       "      <th>3</th>\n",
       "      <td>536365</td>\n",
       "      <td>84029G</td>\n",
       "      <td>KNITTED UNION FLAG HOT WATER BOTTLE</td>\n",
       "      <td>6</td>\n",
       "      <td>2010-12-01 08:26:00</td>\n",
       "      <td>3.39</td>\n",
       "      <td>17850</td>\n",
       "      <td>United Kingdom</td>\n",
       "    </tr>\n",
       "    <tr>\n",
       "      <th>4</th>\n",
       "      <td>536365</td>\n",
       "      <td>84029E</td>\n",
       "      <td>RED WOOLLY HOTTIE WHITE HEART.</td>\n",
       "      <td>6</td>\n",
       "      <td>2010-12-01 08:26:00</td>\n",
       "      <td>3.39</td>\n",
       "      <td>17850</td>\n",
       "      <td>United Kingdom</td>\n",
       "    </tr>\n",
       "  </tbody>\n",
       "</table>\n",
       "</div>"
      ],
      "text/plain": [
       "  InvoiceNo StockCode                          Description  Quantity  \\\n",
       "0    536365    85123A   WHITE HANGING HEART T-LIGHT HOLDER         6   \n",
       "1    536365     71053                  WHITE METAL LANTERN         6   \n",
       "2    536365    84406B       CREAM CUPID HEARTS COAT HANGER         8   \n",
       "3    536365    84029G  KNITTED UNION FLAG HOT WATER BOTTLE         6   \n",
       "4    536365    84029E       RED WOOLLY HOTTIE WHITE HEART.         6   \n",
       "\n",
       "          InvoiceDate  UnitPrice CustomerID         Country  \n",
       "0 2010-12-01 08:26:00       2.55      17850  United Kingdom  \n",
       "1 2010-12-01 08:26:00       3.39      17850  United Kingdom  \n",
       "2 2010-12-01 08:26:00       2.75      17850  United Kingdom  \n",
       "3 2010-12-01 08:26:00       3.39      17850  United Kingdom  \n",
       "4 2010-12-01 08:26:00       3.39      17850  United Kingdom  "
      ]
     },
     "execution_count": 64,
     "metadata": {},
     "output_type": "execute_result"
    }
   ],
   "source": [
    "cleaned_data.head()"
   ]
  },
  {
   "cell_type": "markdown",
   "id": "b940a4bc-7ea4-4bc8-8270-06c5fe209159",
   "metadata": {},
   "source": [
    "在保存时，index 1 2 3 ...都会被保存进去，所以如果不需要它，可以加入index=false"
   ]
  },
  {
   "cell_type": "markdown",
   "id": "07f14f08-8a1a-4869-a5c0-81782ef5f670",
   "metadata": {},
   "source": [
    "预将保存文件取名为e_commerce_cleaned"
   ]
  },
  {
   "cell_type": "code",
   "execution_count": 67,
   "id": "b8e8ac02-9a59-4a75-a580-bb40b01b4dfd",
   "metadata": {},
   "outputs": [],
   "source": [
    "cleaned_data.to_csv(\"C:/Users/ooazh/AppData/Local/Temp/baiduyunguanjia/onlinedit/cache/230bdfd15d0a26448875b7d26790ad13/e_commerce_cleaned.csv\", index=False)  # 可以指定位置保存"
   ]
  },
  {
   "cell_type": "code",
   "execution_count": 68,
   "id": "2f632849-2b8a-4d1f-98cb-077ce64e32a2",
   "metadata": {},
   "outputs": [
    {
     "name": "stderr",
     "output_type": "stream",
     "text": [
      "C:\\Users\\ooazh\\AppData\\Local\\Temp\\ipykernel_28976\\2686214642.py:1: DtypeWarning: Columns (0) have mixed types. Specify dtype option on import or set low_memory=False.\n",
      "  pd.read_csv(\"e_commerce_cleaned.csv\").head()\n"
     ]
    },
    {
     "data": {
      "text/html": [
       "<div>\n",
       "<style scoped>\n",
       "    .dataframe tbody tr th:only-of-type {\n",
       "        vertical-align: middle;\n",
       "    }\n",
       "\n",
       "    .dataframe tbody tr th {\n",
       "        vertical-align: top;\n",
       "    }\n",
       "\n",
       "    .dataframe thead th {\n",
       "        text-align: right;\n",
       "    }\n",
       "</style>\n",
       "<table border=\"1\" class=\"dataframe\">\n",
       "  <thead>\n",
       "    <tr style=\"text-align: right;\">\n",
       "      <th></th>\n",
       "      <th>InvoiceNo</th>\n",
       "      <th>StockCode</th>\n",
       "      <th>Description</th>\n",
       "      <th>Quantity</th>\n",
       "      <th>InvoiceDate</th>\n",
       "      <th>UnitPrice</th>\n",
       "      <th>CustomerID</th>\n",
       "      <th>Country</th>\n",
       "    </tr>\n",
       "  </thead>\n",
       "  <tbody>\n",
       "    <tr>\n",
       "      <th>0</th>\n",
       "      <td>536365</td>\n",
       "      <td>85123A</td>\n",
       "      <td>WHITE HANGING HEART T-LIGHT HOLDER</td>\n",
       "      <td>6</td>\n",
       "      <td>2010-12-01 08:26:00</td>\n",
       "      <td>2.55</td>\n",
       "      <td>17850</td>\n",
       "      <td>United Kingdom</td>\n",
       "    </tr>\n",
       "    <tr>\n",
       "      <th>1</th>\n",
       "      <td>536365</td>\n",
       "      <td>71053</td>\n",
       "      <td>WHITE METAL LANTERN</td>\n",
       "      <td>6</td>\n",
       "      <td>2010-12-01 08:26:00</td>\n",
       "      <td>3.39</td>\n",
       "      <td>17850</td>\n",
       "      <td>United Kingdom</td>\n",
       "    </tr>\n",
       "    <tr>\n",
       "      <th>2</th>\n",
       "      <td>536365</td>\n",
       "      <td>84406B</td>\n",
       "      <td>CREAM CUPID HEARTS COAT HANGER</td>\n",
       "      <td>8</td>\n",
       "      <td>2010-12-01 08:26:00</td>\n",
       "      <td>2.75</td>\n",
       "      <td>17850</td>\n",
       "      <td>United Kingdom</td>\n",
       "    </tr>\n",
       "    <tr>\n",
       "      <th>3</th>\n",
       "      <td>536365</td>\n",
       "      <td>84029G</td>\n",
       "      <td>KNITTED UNION FLAG HOT WATER BOTTLE</td>\n",
       "      <td>6</td>\n",
       "      <td>2010-12-01 08:26:00</td>\n",
       "      <td>3.39</td>\n",
       "      <td>17850</td>\n",
       "      <td>United Kingdom</td>\n",
       "    </tr>\n",
       "    <tr>\n",
       "      <th>4</th>\n",
       "      <td>536365</td>\n",
       "      <td>84029E</td>\n",
       "      <td>RED WOOLLY HOTTIE WHITE HEART.</td>\n",
       "      <td>6</td>\n",
       "      <td>2010-12-01 08:26:00</td>\n",
       "      <td>3.39</td>\n",
       "      <td>17850</td>\n",
       "      <td>United Kingdom</td>\n",
       "    </tr>\n",
       "  </tbody>\n",
       "</table>\n",
       "</div>"
      ],
      "text/plain": [
       "  InvoiceNo StockCode                          Description  Quantity  \\\n",
       "0    536365    85123A   WHITE HANGING HEART T-LIGHT HOLDER         6   \n",
       "1    536365     71053                  WHITE METAL LANTERN         6   \n",
       "2    536365    84406B       CREAM CUPID HEARTS COAT HANGER         8   \n",
       "3    536365    84029G  KNITTED UNION FLAG HOT WATER BOTTLE         6   \n",
       "4    536365    84029E       RED WOOLLY HOTTIE WHITE HEART.         6   \n",
       "\n",
       "           InvoiceDate  UnitPrice CustomerID         Country  \n",
       "0  2010-12-01 08:26:00       2.55      17850  United Kingdom  \n",
       "1  2010-12-01 08:26:00       3.39      17850  United Kingdom  \n",
       "2  2010-12-01 08:26:00       2.75      17850  United Kingdom  \n",
       "3  2010-12-01 08:26:00       3.39      17850  United Kingdom  \n",
       "4  2010-12-01 08:26:00       3.39      17850  United Kingdom  "
      ]
     },
     "execution_count": 68,
     "metadata": {},
     "output_type": "execute_result"
    }
   ],
   "source": [
    "pd.read_csv(\"e_commerce_cleaned.csv\").head()"
   ]
  },
  {
   "cell_type": "code",
   "execution_count": null,
   "id": "ddc87a9b-7bec-4353-b828-ad794b08d93d",
   "metadata": {},
   "outputs": [],
   "source": []
  }
 ],
 "metadata": {
  "kernelspec": {
   "display_name": "Python 3 (ipykernel)",
   "language": "python",
   "name": "python3"
  },
  "language_info": {
   "codemirror_mode": {
    "name": "ipython",
    "version": 3
   },
   "file_extension": ".py",
   "mimetype": "text/x-python",
   "name": "python",
   "nbconvert_exporter": "python",
   "pygments_lexer": "ipython3",
   "version": "3.13.1"
  }
 },
 "nbformat": 4,
 "nbformat_minor": 5
}
